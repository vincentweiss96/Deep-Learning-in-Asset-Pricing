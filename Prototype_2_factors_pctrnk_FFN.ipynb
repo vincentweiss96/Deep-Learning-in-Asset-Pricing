{
 "cells": [
  {
   "cell_type": "code",
   "execution_count": 6,
   "metadata": {},
   "outputs": [],
   "source": [
    "import pandas as pd\n",
    "import numpy as np\n",
    "from sklearn.model_selection import KFold\n",
    "from keras.optimizers import SGD, Adam, RMSprop, Adamax, Adadelta\n",
    "from keras.models import Model, load_model\n",
    "from keras import Input, regularizers, initializers\n",
    "from keras.layers import Dense, Dropout, Multiply, concatenate, LeakyReLU\n",
    "from matplotlib import pyplot as plt\n",
    "import keras.backend as K\n",
    "from sklearn.preprocessing import StandardScaler, RobustScaler\n",
    "from keras.utils.vis_utils import plot_model\n",
    "from keras.callbacks import Callback\n",
    "from sklearn.preprocessing import quantile_transform\n",
    "import psycopg2\n",
    "import missingno as msno\n",
    "from pickle import dump, load"
   ]
  },
  {
   "cell_type": "code",
   "execution_count": 7,
   "metadata": {},
   "outputs": [],
   "source": [
    "# Network Definition\n",
    "def custom_loss(y_true,y_pred):\n",
    "#         M * R * G\n",
    "#         (1-w *R) * R * G\n",
    "#         weights = y_pred[:,0]\n",
    "#         g_i = y_pred[:,1]\n",
    "#         excess_returns = y_true\n",
    "#         M = 1-K.sum(weights * excess_returns)\n",
    "        Return_true= y_true[:,27]\n",
    "        Features = y_true[:,:27]\n",
    "        Factors = y_pred\n",
    "        prediction =K.sum(Features* Factors)\n",
    "        \n",
    "        \n",
    "        #custom_loss_value = 1000*K.mean(((M * excess_returns)**2)* (g_i/K.sum(g_i)))\n",
    "        custom_loss_value = K.mean((Return_true-prediction)**2)\n",
    "        return custom_loss_value\n",
    "\n",
    "def loss_arguments(Tickers, i):\n",
    "    observation_weights =\\\n",
    "    Tickers[\"Count\"].iloc[i*128:i*128+128]/\\\n",
    "    Tickers[\"Count\"].iloc[i*128:i*128+128].sum()\n",
    "    def custom_loss(y_true,y_pred):\n",
    "        # M * R * G\n",
    "        # (1-w *R) * R * G\n",
    "        weights = y_pred[:,0]\n",
    "        g_i = y_pred[:,1]\n",
    "        excess_returns = y_true\n",
    "        M = 1-K.sum(weights * excess_returns)\n",
    "        custom_loss_value = K.mean(((M * excess_returns)**2)* g_i)\n",
    "        return custom_loss_value\n",
    "    return custom_loss_value\n",
    "\n",
    "\n",
    "def custom_loss_adverse(y_true, y_pred):\n",
    "    # M * R * G\n",
    "    # (1-w *R) * R * G\n",
    "    weights = y_pred[:,0]\n",
    "    g_i = y_pred[:,1]\n",
    "    excess_returns = y_true\n",
    "    M = 1-K.sum(weights * excess_returns)\n",
    "    custom_loss_value = -1000* K.mean(((M * excess_returns)**2)*(g_i/K.sum(g_i)))\n",
    "    return custom_loss_value\n",
    "\n",
    "class CustomCallback(Callback):\n",
    "    def on_train_batch_end(self, batch, logs=None):\n",
    "        global i\n",
    "        global Tickers\n",
    "        \n",
    "        observation_weights_ =\\\n",
    "        Tickers[\"Count\"].iloc[i*128:i*128+128]/\\\n",
    "        Tickers[\"Count\"].iloc[i*128:i*128+128].sum()        \n",
    "        i = i+1\n",
    "        #print(observation_weights_)"
   ]
  },
  {
   "cell_type": "code",
   "execution_count": 38,
   "metadata": {},
   "outputs": [],
   "source": [
    "input_shape = (27,)\n",
    "network=None\n",
    "opt=Adamax(lr=0.0001)\n",
    "    \n",
    "    \n",
    "Input_object = Input(shape =input_shape, name='Input', dtype='float32')\n",
    "Dense1 = Dense(50, activation='relu', name='Dense1',\\\n",
    "                kernel_initializer=initializers.Zeros(),\\\n",
    "               input_shape=input_shape)(Input_object)\n",
    "Dropout1= Dropout(0.05)(Dense1)\n",
    "Dense2 = Dense(30, activation='relu', name='Dense2',\\\n",
    "                kernel_initializer=initializers.Zeros())(Dropout1)\n",
    "Out = Dense(1, activation='sigmoid', name='Output',\\\n",
    "                kernel_initializer=initializers.Zeros())(Dense2)\n",
    "#LeakyReLU\n",
    "\n",
    "# # kernel_regularizer=regularizers.l1_l2(l1=1e-5, l2=1e-4),\n",
    "# #     bias_regularizer=regularizers.l2(1e-4),\n",
    "# #     activity_regularizer=regularizers.l2(1e-5)\n",
    "# G_1 = Dense(50, activation='sigmoid', name='G_1',\\\n",
    "#             input_shape=input_shape)(Input_object)\n",
    "\n",
    "# # Sigmoid works\n",
    "# G_2 = Dense(1, activation='sigmoid', name='G_2')(G_1)\n",
    "\n",
    "#Out = concatenate([Dense3, G_2], name='Output')\n",
    "\n",
    "network = Model([Input_object], Out)"
   ]
  },
  {
   "cell_type": "code",
   "execution_count": 9,
   "metadata": {},
   "outputs": [
    {
     "name": "stdout",
     "output_type": "stream",
     "text": [
      "got column_names\n",
      "got macro_column_names\n",
      "got macro_data\n"
     ]
    }
   ],
   "source": [
    "# database cols: needed only once\n",
    "\n",
    "conn = psycopg2.connect(\"dbname=Kelly_2017_2020 user=postgres password=fussball1\")\n",
    "cur = conn.cursor()\n",
    "\n",
    "cur.execute(\"SELECT column_name from information_schema.columns WHERE (table_name = 'data');\")\n",
    "column_names = cur.fetchall()\n",
    "print(\"got column_names\")\n",
    "\n",
    "cur.execute(\"SELECT column_name from information_schema.columns WHERE (table_name = 'macro');\")\n",
    "macro_column_names = cur.fetchall()\n",
    "print(\"got macro_column_names\")\n",
    "\n",
    "cur.execute(\"SELECT * From macro;\")\n",
    "macro_data = cur.fetchall()\n",
    "macro_data = pd.DataFrame(macro_data, columns=pd.DataFrame(macro_column_names)[0])\n",
    "\n",
    "print(\"got macro_data\")\n",
    "\n",
    "conn.commit()\n",
    "cur.close()\n",
    "conn.close()\n",
    "\n",
    "date_list = macro_data[\"eom\"]\n",
    "date_list=date_list.sort_values()"
   ]
  },
  {
   "cell_type": "code",
   "execution_count": 10,
   "metadata": {},
   "outputs": [
    {
     "name": "stdout",
     "output_type": "stream",
     "text": [
      "got column_names\n",
      "got macro_column_names\n"
     ]
    }
   ],
   "source": [
    "# database cols: needed only once\n",
    "\n",
    "conn = psycopg2.connect(\"dbname=Kelly_2017_2020 user=postgres password=fussball1\")\n",
    "cur = conn.cursor()\n",
    "\n",
    "cur.execute(\"SELECT column_name from information_schema.columns WHERE (table_name = 'data');\")\n",
    "column_names = cur.fetchall()\n",
    "print(\"got column_names\")\n",
    "\n",
    "cur.execute(\"SELECT column_name from information_schema.columns WHERE (table_name = 'macro');\")\n",
    "macro_column_names = cur.fetchall()\n",
    "print(\"got macro_column_names\")\n",
    "\n",
    "# cur.execute(\"SELECT * From macro;\")\n",
    "# macro_data = cur.fetchall()\n",
    "# macro_data = pd.DataFrame(macro_data, columns=pd.DataFrame(macro_column_names)[0])\n",
    "\n",
    "#print(\"got macro_data\")\n",
    "\n",
    "#conn.commit()\n",
    "cur.close()\n",
    "conn.close()\n"
   ]
  },
  {
   "cell_type": "code",
   "execution_count": 6,
   "metadata": {},
   "outputs": [],
   "source": [
    "# NO! just dont import macro\n",
    "\n",
    "# variables=pd.read_excel(\"C:\\\\Users\\\\Vincent\\\\01 Python_Working_Directory\\\\Master\\\\Test\\\\Data\\\\Data Fabio\\\\Output\\\\variables.xlsx\",\\\n",
    "#                   sheet_name = \"variables\", usecols = \"A:B\")\n",
    "# identifiers=variables[(variables[\"TYPE\"]==\"identifier\") | (variables[\"TYPE\"]==\"observation identifier\")]\n",
    "# identifiers=list(identifiers[\"VARIABLE\"])\n",
    "\n",
    "# column_df=pd.read_csv(\"C:\\\\Users\\\\Vincent\\\\01 Python_Working_Directory\\\\Master\\\\Test\\\\Data\\\\Data Fabio\\\\Output\\\\example_sample.csv\",\\\n",
    "#                   index_col=0)\n",
    "# cols = column_df.columns.values\n",
    "# delete_cols_median =[]\n",
    "# for col in cols:\n",
    "#         if not col in identifiers:\n",
    "#             delete_cols_median.append(col+\"_median\")\n",
    "            \n",
    "#val_batch.drop(columns=delete_cols_median, inplace = True)"
   ]
  },
  {
   "cell_type": "code",
   "execution_count": 11,
   "metadata": {},
   "outputs": [],
   "source": [
    "variables=pd.read_excel(\"C:\\\\Users\\\\Vincent\\\\01 Python_Working_Directory\\\\Master\\\\Test\\\\Data\\\\Data Fabio\\\\Output\\\\variables_small.xlsx\",\\\n",
    "                  sheet_name = \"variables\", usecols = \"A:B\")\n",
    "identifiers=variables[(variables[\"TYPE\"]==\"identifier\") | (variables[\"TYPE\"]==\"observation identifier\")]\n",
    "identifiers=list(identifiers[\"VARIABLE\"])\n",
    "identifiers.remove(\"eom\")\n",
    "\n",
    "delete_cols = pd.read_csv(\"Networks\\delete_cols.csv\")\n",
    "delete_cols =delete_cols[\"0\"]"
   ]
  },
  {
   "cell_type": "code",
   "execution_count": 12,
   "metadata": {},
   "outputs": [],
   "source": [
    "# delete_cols = val_batch.loc[:,val_batch.isna().sum()>val_batch.isna().sum().quantile(0.1)].columns.values\n",
    "# pd.DataFrame(delete_cols).to_csv(\"Networks\\delete_cols.csv\", index = False)"
   ]
  },
  {
   "cell_type": "code",
   "execution_count": 13,
   "metadata": {},
   "outputs": [
    {
     "data": {
      "text/plain": [
       "342"
      ]
     },
     "execution_count": 13,
     "metadata": {},
     "output_type": "execute_result"
    }
   ],
   "source": [
    "len(delete_cols)"
   ]
  },
  {
   "cell_type": "code",
   "execution_count": 14,
   "metadata": {},
   "outputs": [],
   "source": [
    "keep_variables=pd.read_excel(\"C:\\\\Users\\\\Vincent\\\\01 Python_Working_Directory\\\\Master\\\\Networks\\\\kept_columns.xlsx\",\\\n",
    "                  sheet_name = \"filtered\", usecols = \"A:A\", index=False)"
   ]
  },
  {
   "cell_type": "code",
   "execution_count": 15,
   "metadata": {},
   "outputs": [],
   "source": [
    "keep_variables_list =[]\n",
    "for var in keep_variables[\"Kelly\"]:\n",
    "    keep_variables_list.append(var,)"
   ]
  },
  {
   "cell_type": "code",
   "execution_count": 16,
   "metadata": {},
   "outputs": [],
   "source": [
    "for i in list([\"inv\", \"xsga\", \"at\", \\\n",
    "               \"beta_zd\", \"ivol_capm_zd\",\\\n",
    "               \"turnover_zd\", \"beta_60m\",\\\n",
    "               \"prc_highprc_252d\",\"bidaskhl_21d\",\\\n",
    "              \"dolvol_var_zd\",\"VARC_z(X)\"]):\n",
    "    keep_variables_list.remove(i)"
   ]
  },
  {
   "cell_type": "code",
   "execution_count": 17,
   "metadata": {},
   "outputs": [
    {
     "data": {
      "text/plain": [
       "'20970.0'"
      ]
     },
     "execution_count": 17,
     "metadata": {},
     "output_type": "execute_result"
    }
   ],
   "source": [
    "str(date_list[15])"
   ]
  },
  {
   "cell_type": "code",
   "execution_count": 18,
   "metadata": {},
   "outputs": [],
   "source": [
    "# once only to save time\n",
    "conn = psycopg2.connect(\"dbname=Kelly_2017_2020 user=postgres password=fussball1\")\n",
    "cur = conn.cursor()\n",
    "\n",
    "cur.execute(\"SELECT * FROM data WHERE eom = '\"+str(date_list[15])+\"';\")\n",
    "val_batch = cur.fetchall()\n",
    "cur.close()\n",
    "conn.close()\n",
    "\n",
    "val_batch = pd.DataFrame(val_batch, columns = pd.DataFrame(column_names)[0])\n",
    "\n",
    "val_batch.replace(\"EMPTY\", np.nan, inplace = True)\n",
    "\n",
    "val_batch.drop(columns=identifiers, inplace = True)\n",
    "val_batch = val_batch[False == val_batch[\"ret_exc_lead1m\"].isnull()]\n",
    "\n",
    "# select indexes to drop\n",
    "quantile_0999=val_batch[[\"ret_exc_lead1m\"]].astype(float).quantile(0.999)[0]\n",
    "drop_indexes = val_batch.index[(val_batch[[\"ret_exc_lead1m\"]].astype(float)>quantile_0999)[\"ret_exc_lead1m\"]]\n",
    "val_batch.drop(drop_indexes, inplace = True)"
   ]
  },
  {
   "cell_type": "code",
   "execution_count": 21,
   "metadata": {},
   "outputs": [
    {
     "data": {
      "text/plain": [
       "2        0.025052\n",
       "3        0.025052\n",
       "4        0.025052\n",
       "45       0.025052\n",
       "47       0.175049\n",
       "           ...   \n",
       "22697    0.775005\n",
       "22699    0.125039\n",
       "22700    0.975011\n",
       "22701    0.975011\n",
       "22702    0.875024\n",
       "Name: me, Length: 15939, dtype: float64"
      ]
     },
     "execution_count": 21,
     "metadata": {},
     "output_type": "execute_result"
    }
   ],
   "source": [
    "pd.DataFrame(pd.qcut(val_batch[\"me\"].astype(float), 20))[\"me\"].rank(pct=True)"
   ]
  },
  {
   "cell_type": "code",
   "execution_count": 19,
   "metadata": {},
   "outputs": [
    {
     "name": "stderr",
     "output_type": "stream",
     "text": [
      "C:\\Users\\Vincent\\anaconda3\\lib\\site-packages\\pandas\\core\\frame.py:3997: SettingWithCopyWarning: \n",
      "A value is trying to be set on a copy of a slice from a DataFrame\n",
      "\n",
      "See the caveats in the documentation: https://pandas.pydata.org/pandas-docs/stable/user_guide/indexing.html#returning-a-view-versus-a-copy\n",
      "  errors=errors,\n"
     ]
    }
   ],
   "source": [
    "val_batch_short = val_batch[keep_variables_list]\n",
    "\n",
    "# lösche Zeile mit mehr als x% leer: 0.1 _> behalte 40%\n",
    "drop_indexes_nan = val_batch_short.index[(val_batch_short.isna().mean(axis=1)>0.1)]\n",
    "val_batch_short.drop(drop_indexes_nan, inplace = True)\n",
    "\n",
    "# fillna more complicated than usual??\n",
    "val_batch_short = pd.DataFrame(val_batch[keep_variables_list])\n",
    "val_batch_short=val_batch_short.fillna(val_batch_short.median())"
   ]
  },
  {
   "cell_type": "code",
   "execution_count": 20,
   "metadata": {},
   "outputs": [],
   "source": [
    "X_val_batch = val_batch_short.drop(columns=['ret_exc_lead1m','eom'])\n",
    "X_val_batch=X_val_batch.astype(float)\n",
    "for col in X_val_batch.columns.values:\n",
    "#     X_val_batch[col].update(X_val_batch[col].rank(pct=True))\n",
    "    X_val_batch[col].update(pd.qcut(X_val_batch[col].astype(float).rank(pct=True, method=\"first\"), 20).rank(pct=True))\n",
    "\n",
    "Y_val_batch = val_batch_short[\"ret_exc_lead1m\"].astype(float)"
   ]
  },
  {
   "cell_type": "code",
   "execution_count": 25,
   "metadata": {},
   "outputs": [],
   "source": [
    "# Y_val_batch.update(Y_val_batch.rank(pct=True))"
   ]
  },
  {
   "cell_type": "code",
   "execution_count": 30,
   "metadata": {},
   "outputs": [],
   "source": [
    "Y_val_batch.update(((Y_val_batch>0.0065)*1))"
   ]
  },
  {
   "cell_type": "code",
   "execution_count": 28,
   "metadata": {},
   "outputs": [
    {
     "data": {
      "text/plain": [
       "0.008003689655172376"
      ]
     },
     "execution_count": 28,
     "metadata": {},
     "output_type": "execute_result"
    }
   ],
   "source": [
    "Y_val_batch.median()"
   ]
  },
  {
   "cell_type": "code",
   "execution_count": 29,
   "metadata": {},
   "outputs": [
    {
     "data": {
      "text/plain": [
       "0.5196687370600414"
      ]
     },
     "execution_count": 29,
     "metadata": {},
     "output_type": "execute_result"
    }
   ],
   "source": []
  },
  {
   "cell_type": "code",
   "execution_count": 23,
   "metadata": {},
   "outputs": [
    {
     "data": {
      "text/plain": [
       "0.015995379602322057"
      ]
     },
     "execution_count": 23,
     "metadata": {},
     "output_type": "execute_result"
    }
   ],
   "source": [
    "Y_val_batch.mean()"
   ]
  },
  {
   "cell_type": "code",
   "execution_count": 13,
   "metadata": {},
   "outputs": [],
   "source": [
    "# pd.DataFrame(val_batch.columns.values).to_csv(\"Networks\\\\kept_columns.csv\")"
   ]
  },
  {
   "cell_type": "code",
   "execution_count": 592,
   "metadata": {},
   "outputs": [],
   "source": [
    "scaler = RobustScaler(with_centering=True, with_scaling=True,quantile_range=(0.01,0.99)).fit(val_batch_short.drop(columns=['ret_exc_lead1m']))"
   ]
  },
  {
   "cell_type": "code",
   "execution_count": 580,
   "metadata": {
    "scrolled": true
   },
   "outputs": [],
   "source": [
    "val_batch_short.drop(\"eom\", axis=1, inplace =True)"
   ]
  },
  {
   "cell_type": "code",
   "execution_count": 707,
   "metadata": {},
   "outputs": [],
   "source": [
    "# dump(scaler, open('Networks\\\\scaler_short.pkl','wb'))"
   ]
  },
  {
   "cell_type": "code",
   "execution_count": 609,
   "metadata": {},
   "outputs": [],
   "source": [
    "scaler = load(open('Networks\\\\scaler_short.pkl','rb'))"
   ]
  },
  {
   "cell_type": "code",
   "execution_count": 610,
   "metadata": {},
   "outputs": [],
   "source": [
    "val_batch=None\n",
    "X_val_batch=None\n",
    "Y_val_batch=None\n",
    "val_batch_short = None"
   ]
  },
  {
   "cell_type": "code",
   "execution_count": 39,
   "metadata": {
    "scrolled": true
   },
   "outputs": [
    {
     "name": "stdout",
     "output_type": "stream",
     "text": [
      "0.022727272727272728\n",
      "got data\n",
      "Train on 15942 samples, validate on 15939 samples\n",
      "Epoch 1/100\n",
      "15942/15942 [==============================] - 1s 41us/step - loss: 0.6780 - val_loss: 0.7029\n",
      "Epoch 2/100\n",
      "15942/15942 [==============================] - 0s 25us/step - loss: 0.6763 - val_loss: 0.7031\n",
      "Epoch 3/100\n",
      "15942/15942 [==============================] - 0s 24us/step - loss: 0.6763 - val_loss: 0.7040\n",
      "Epoch 4/100\n",
      "15942/15942 [==============================] - 0s 22us/step - loss: 0.6763 - val_loss: 0.7022\n",
      "Epoch 5/100\n",
      "15942/15942 [==============================] - 0s 23us/step - loss: 0.6763 - val_loss: 0.7012\n",
      "Epoch 6/100\n",
      "15942/15942 [==============================] - 0s 22us/step - loss: 0.6763 - val_loss: 0.7011\n",
      "Epoch 7/100\n",
      "15942/15942 [==============================] - 0s 21us/step - loss: 0.6764 - val_loss: 0.7037\n",
      "Epoch 8/100\n",
      "15942/15942 [==============================] - 0s 21us/step - loss: 0.6763 - val_loss: 0.7017\n",
      "Epoch 9/100\n",
      "15942/15942 [==============================] - 0s 22us/step - loss: 0.6763 - val_loss: 0.7034\n",
      "Epoch 10/100\n",
      "15942/15942 [==============================] - 0s 22us/step - loss: 0.6763 - val_loss: 0.7026\n",
      "Epoch 11/100\n",
      "15942/15942 [==============================] - 0s 21us/step - loss: 0.6763 - val_loss: 0.7028\n",
      "Epoch 12/100\n",
      "15942/15942 [==============================] - 0s 21us/step - loss: 0.6763 - val_loss: 0.7022\n",
      "Epoch 13/100\n",
      "15942/15942 [==============================] - 0s 22us/step - loss: 0.6763 - val_loss: 0.7031\n",
      "Epoch 14/100\n",
      "15942/15942 [==============================] - 0s 22us/step - loss: 0.6765 - val_loss: 0.7018\n",
      "Epoch 15/100\n",
      "15942/15942 [==============================] - 0s 22us/step - loss: 0.6762 - val_loss: 0.7020\n",
      "Epoch 16/100\n",
      "15942/15942 [==============================] - 0s 25us/step - loss: 0.6763 - val_loss: 0.7016\n",
      "Epoch 17/100\n",
      "15942/15942 [==============================] - 0s 21us/step - loss: 0.6764 - val_loss: 0.7040\n",
      "Epoch 18/100\n",
      "15942/15942 [==============================] - 0s 23us/step - loss: 0.6763 - val_loss: 0.7022\n",
      "Epoch 19/100\n",
      "15942/15942 [==============================] - 0s 21us/step - loss: 0.6762 - val_loss: 0.7002\n",
      "Epoch 20/100\n",
      "15942/15942 [==============================] - 0s 20us/step - loss: 0.6764 - val_loss: 0.7039\n",
      "Epoch 21/100\n",
      "15942/15942 [==============================] - 0s 21us/step - loss: 0.6763 - val_loss: 0.7032\n",
      "Epoch 22/100\n",
      "15942/15942 [==============================] - 0s 26us/step - loss: 0.6762 - val_loss: 0.7014\n",
      "Epoch 23/100\n",
      "15942/15942 [==============================] - 0s 26us/step - loss: 0.6763 - val_loss: 0.7032\n",
      "Epoch 24/100\n",
      "15942/15942 [==============================] - ETA: 0s - loss: 0.676 - 0s 24us/step - loss: 0.6764 - val_loss: 0.7030\n",
      "Epoch 25/100\n",
      "15942/15942 [==============================] - 0s 22us/step - loss: 0.6763 - val_loss: 0.7024\n",
      "Epoch 26/100\n",
      "15942/15942 [==============================] - 0s 22us/step - loss: 0.6763 - val_loss: 0.7020\n",
      "Epoch 27/100\n",
      "15942/15942 [==============================] - 0s 22us/step - loss: 0.6764 - val_loss: 0.7035\n",
      "Epoch 28/100\n",
      "15942/15942 [==============================] - 0s 23us/step - loss: 0.6763 - val_loss: 0.7016\n",
      "Epoch 29/100\n",
      "15942/15942 [==============================] - 0s 22us/step - loss: 0.6763 - val_loss: 0.7038\n",
      "Epoch 30/100\n",
      "15942/15942 [==============================] - 0s 24us/step - loss: 0.6762 - val_loss: 0.7026\n",
      "Epoch 31/100\n",
      "15942/15942 [==============================] - 0s 24us/step - loss: 0.6763 - val_loss: 0.7036\n",
      "Epoch 32/100\n",
      "15942/15942 [==============================] - 0s 23us/step - loss: 0.6764 - val_loss: 0.7015\n",
      "Epoch 33/100\n",
      "15942/15942 [==============================] - 0s 21us/step - loss: 0.6764 - val_loss: 0.7061\n",
      "Epoch 34/100\n",
      "15942/15942 [==============================] - 0s 22us/step - loss: 0.6763 - val_loss: 0.7053\n",
      "Epoch 35/100\n",
      "15942/15942 [==============================] - 0s 23us/step - loss: 0.6763 - val_loss: 0.7047\n",
      "Epoch 36/100\n",
      "15942/15942 [==============================] - 0s 21us/step - loss: 0.6763 - val_loss: 0.7031\n",
      "Epoch 37/100\n",
      "15942/15942 [==============================] - 0s 21us/step - loss: 0.6762 - val_loss: 0.7004\n",
      "Epoch 38/100\n",
      "15942/15942 [==============================] - 0s 21us/step - loss: 0.6763 - val_loss: 0.7036\n",
      "Epoch 39/100\n",
      "15942/15942 [==============================] - 0s 23us/step - loss: 0.6763 - val_loss: 0.7032\n",
      "Epoch 40/100\n",
      "15942/15942 [==============================] - 0s 22us/step - loss: 0.6763 - val_loss: 0.7038\n",
      "Epoch 41/100\n",
      "15942/15942 [==============================] - 0s 22us/step - loss: 0.6763 - val_loss: 0.7033\n",
      "Epoch 42/100\n",
      "15942/15942 [==============================] - 0s 22us/step - loss: 0.6763 - val_loss: 0.7031\n",
      "Epoch 43/100\n",
      "15942/15942 [==============================] - 0s 21us/step - loss: 0.6765 - val_loss: 0.7029\n",
      "Epoch 44/100\n",
      "15942/15942 [==============================] - 0s 22us/step - loss: 0.6763 - val_loss: 0.7039\n",
      "Epoch 45/100\n",
      "15942/15942 [==============================] - 0s 21us/step - loss: 0.6763 - val_loss: 0.7034\n",
      "Epoch 46/100\n",
      "15942/15942 [==============================] - 0s 21us/step - loss: 0.6763 - val_loss: 0.7019\n",
      "Epoch 47/100\n",
      "15942/15942 [==============================] - 0s 22us/step - loss: 0.6764 - val_loss: 0.7035\n",
      "Epoch 48/100\n",
      "15942/15942 [==============================] - 0s 22us/step - loss: 0.6763 - val_loss: 0.7019\n",
      "Epoch 49/100\n",
      "15942/15942 [==============================] - 0s 21us/step - loss: 0.6763 - val_loss: 0.7036\n",
      "Epoch 50/100\n",
      "15942/15942 [==============================] - 0s 22us/step - loss: 0.6762 - val_loss: 0.7051\n",
      "Epoch 51/100\n",
      "15942/15942 [==============================] - 0s 22us/step - loss: 0.6762 - val_loss: 0.7019\n",
      "Epoch 52/100\n",
      "15942/15942 [==============================] - 0s 22us/step - loss: 0.6764 - val_loss: 0.7050\n",
      "Epoch 53/100\n",
      "15942/15942 [==============================] - 0s 23us/step - loss: 0.6762 - val_loss: 0.7024\n",
      "Epoch 54/100\n",
      "15942/15942 [==============================] - 0s 23us/step - loss: 0.6763 - val_loss: 0.7026\n",
      "Epoch 55/100\n",
      "15942/15942 [==============================] - 0s 22us/step - loss: 0.6763 - val_loss: 0.7035\n",
      "Epoch 56/100\n",
      "15942/15942 [==============================] - 0s 21us/step - loss: 0.6763 - val_loss: 0.7042\n",
      "Epoch 57/100\n",
      "15942/15942 [==============================] - 0s 21us/step - loss: 0.6763 - val_loss: 0.7013\n",
      "Epoch 58/100\n",
      "15942/15942 [==============================] - 0s 22us/step - loss: 0.6763 - val_loss: 0.7025\n",
      "Epoch 59/100\n",
      "15942/15942 [==============================] - 0s 22us/step - loss: 0.6763 - val_loss: 0.7033\n",
      "Epoch 60/100\n",
      "15942/15942 [==============================] - 0s 23us/step - loss: 0.6763 - val_loss: 0.7026\n",
      "Epoch 61/100\n",
      "15942/15942 [==============================] - 0s 21us/step - loss: 0.6763 - val_loss: 0.7036\n",
      "Epoch 62/100\n",
      "15942/15942 [==============================] - 0s 22us/step - loss: 0.6762 - val_loss: 0.7054\n",
      "Epoch 63/100\n",
      "15942/15942 [==============================] - 0s 22us/step - loss: 0.6762 - val_loss: 0.7072\n",
      "Epoch 64/100\n",
      "15942/15942 [==============================] - 0s 22us/step - loss: 0.6763 - val_loss: 0.7026\n",
      "Epoch 65/100\n",
      "15942/15942 [==============================] - 0s 21us/step - loss: 0.6763 - val_loss: 0.7047\n",
      "Epoch 66/100\n",
      "15942/15942 [==============================] - 0s 21us/step - loss: 0.6763 - val_loss: 0.7030\n",
      "Epoch 67/100\n",
      "15942/15942 [==============================] - 0s 22us/step - loss: 0.6761 - val_loss: 0.7103\n",
      "Epoch 68/100\n",
      "15942/15942 [==============================] - 0s 21us/step - loss: 0.6764 - val_loss: 0.7010\n",
      "Epoch 69/100\n",
      "15942/15942 [==============================] - 0s 21us/step - loss: 0.6763 - val_loss: 0.7029\n",
      "Epoch 70/100\n",
      "15942/15942 [==============================] - 0s 22us/step - loss: 0.6764 - val_loss: 0.7029\n",
      "Epoch 71/100\n",
      "15942/15942 [==============================] - 0s 21us/step - loss: 0.6762 - val_loss: 0.7018\n",
      "Epoch 72/100\n",
      "15942/15942 [==============================] - 0s 22us/step - loss: 0.6763 - val_loss: 0.7029\n",
      "Epoch 73/100\n",
      "15942/15942 [==============================] - 0s 24us/step - loss: 0.6763 - val_loss: 0.7048\n",
      "Epoch 74/100\n",
      "15942/15942 [==============================] - 0s 23us/step - loss: 0.6764 - val_loss: 0.7044\n",
      "Epoch 75/100\n",
      "15942/15942 [==============================] - 0s 27us/step - loss: 0.6763 - val_loss: 0.7029\n",
      "Epoch 76/100\n"
     ]
    },
    {
     "name": "stdout",
     "output_type": "stream",
     "text": [
      "15942/15942 [==============================] - 0s 24us/step - loss: 0.6763 - val_loss: 0.7007\n",
      "Epoch 77/100\n",
      "15942/15942 [==============================] - 0s 21us/step - loss: 0.6763 - val_loss: 0.7026\n",
      "Epoch 78/100\n",
      "15942/15942 [==============================] - 0s 22us/step - loss: 0.6763 - val_loss: 0.7065\n",
      "Epoch 79/100\n",
      "15942/15942 [==============================] - 0s 22us/step - loss: 0.6763 - val_loss: 0.7031\n",
      "Epoch 80/100\n",
      "15942/15942 [==============================] - 0s 23us/step - loss: 0.6762 - val_loss: 0.7073\n",
      "Epoch 81/100\n",
      "15942/15942 [==============================] - 0s 22us/step - loss: 0.6764 - val_loss: 0.7035\n",
      "Epoch 82/100\n",
      "15942/15942 [==============================] - 0s 22us/step - loss: 0.6763 - val_loss: 0.7015\n",
      "Epoch 83/100\n",
      "15942/15942 [==============================] - 0s 22us/step - loss: 0.6764 - val_loss: 0.7048\n",
      "Epoch 84/100\n",
      "15942/15942 [==============================] - 0s 24us/step - loss: 0.6763 - val_loss: 0.7010\n",
      "Epoch 85/100\n",
      "15942/15942 [==============================] - 0s 22us/step - loss: 0.6763 - val_loss: 0.7062\n",
      "Epoch 86/100\n",
      "15942/15942 [==============================] - 0s 21us/step - loss: 0.6764 - val_loss: 0.7062\n",
      "Epoch 87/100\n",
      "15942/15942 [==============================] - 0s 21us/step - loss: 0.6764 - val_loss: 0.7019\n",
      "Epoch 88/100\n",
      "15942/15942 [==============================] - 0s 22us/step - loss: 0.6763 - val_loss: 0.7035\n",
      "Epoch 89/100\n",
      "15942/15942 [==============================] - 0s 22us/step - loss: 0.6764 - val_loss: 0.7026\n",
      "Epoch 90/100\n",
      "15942/15942 [==============================] - 0s 21us/step - loss: 0.6763 - val_loss: 0.7020\n",
      "Epoch 91/100\n",
      "15942/15942 [==============================] - 0s 22us/step - loss: 0.6763 - val_loss: 0.7017\n",
      "Epoch 92/100\n",
      "15942/15942 [==============================] - 0s 29us/step - loss: 0.6764 - val_loss: 0.7002\n",
      "Epoch 93/100\n",
      "15942/15942 [==============================] - 0s 22us/step - loss: 0.6763 - val_loss: 0.7029\n",
      "Epoch 94/100\n",
      "15942/15942 [==============================] - 0s 29us/step - loss: 0.6763 - val_loss: 0.7012\n",
      "Epoch 95/100\n",
      "15942/15942 [==============================] - 0s 23us/step - loss: 0.6762 - val_loss: 0.7017\n",
      "Epoch 96/100\n",
      "15942/15942 [==============================] - 0s 21us/step - loss: 0.6763 - val_loss: 0.7030\n",
      "Epoch 97/100\n",
      "15942/15942 [==============================] - 0s 22us/step - loss: 0.6763 - val_loss: 0.7026\n",
      "Epoch 98/100\n",
      "15942/15942 [==============================] - 0s 22us/step - loss: 0.6764 - val_loss: 0.7049\n",
      "Epoch 99/100\n",
      "15942/15942 [==============================] - 0s 22us/step - loss: 0.6762 - val_loss: 0.7043\n",
      "Epoch 100/100\n",
      "15942/15942 [==============================] - 0s 21us/step - loss: 0.6763 - val_loss: 0.7013\n"
     ]
    },
    {
     "data": {
      "image/png": "[encoded data removed]",
      "text/plain": [
       "<Figure size 432x288 with 1 Axes>"
      ]
     },
     "metadata": {
      "needs_background": "light"
     },
     "output_type": "display_data"
    },
    {
     "name": "stdout",
     "output_type": "stream",
     "text": [
      "0.9998881648150645 1.0005135942413235\n",
      "Train on 15942 samples, validate on 15939 samples\n",
      "Epoch 1/100\n",
      "15942/15942 [==============================] - 1s 33us/step - loss: 0.6767 - val_loss: 0.7055\n",
      "Epoch 2/100\n",
      "15942/15942 [==============================] - 0s 21us/step - loss: 0.6765 - val_loss: 0.7011\n",
      "Epoch 3/100\n",
      "15942/15942 [==============================] - 0s 21us/step - loss: 0.6764 - val_loss: 0.7041\n",
      "Epoch 4/100\n",
      "15942/15942 [==============================] - 0s 25us/step - loss: 0.6763 - val_loss: 0.7061\n",
      "Epoch 5/100\n",
      "15942/15942 [==============================] - 0s 22us/step - loss: 0.6763 - val_loss: 0.7063\n",
      "Epoch 6/100\n",
      "15942/15942 [==============================] - 0s 22us/step - loss: 0.6764 - val_loss: 0.7009\n",
      "Epoch 7/100\n",
      "15942/15942 [==============================] - 0s 21us/step - loss: 0.6763 - val_loss: 0.7028\n",
      "Epoch 8/100\n",
      "15942/15942 [==============================] - 0s 28us/step - loss: 0.6763 - val_loss: 0.7019\n",
      "Epoch 9/100\n",
      "15942/15942 [==============================] - 0s 22us/step - loss: 0.6762 - val_loss: 0.7055\n",
      "Epoch 10/100\n",
      "15942/15942 [==============================] - 0s 21us/step - loss: 0.6764 - val_loss: 0.7063\n",
      "Epoch 11/100\n",
      "15942/15942 [==============================] - 0s 24us/step - loss: 0.6762 - val_loss: 0.7047\n",
      "Epoch 12/100\n",
      "15942/15942 [==============================] - 0s 26us/step - loss: 0.6762 - val_loss: 0.7046\n",
      "Epoch 13/100\n",
      "15942/15942 [==============================] - 0s 28us/step - loss: 0.6763 - val_loss: 0.7035\n",
      "Epoch 14/100\n",
      "15942/15942 [==============================] - 0s 26us/step - loss: 0.6764 - val_loss: 0.7043\n",
      "Epoch 15/100\n",
      "15942/15942 [==============================] - 0s 24us/step - loss: 0.6762 - val_loss: 0.7029\n",
      "Epoch 16/100\n",
      "15942/15942 [==============================] - 1s 34us/step - loss: 0.6762 - val_loss: 0.7044\n",
      "Epoch 17/100\n",
      "15942/15942 [==============================] - 0s 26us/step - loss: 0.6763 - val_loss: 0.7040\n",
      "Epoch 18/100\n",
      "15942/15942 [==============================] - 0s 25us/step - loss: 0.6764 - val_loss: 0.7029\n",
      "Epoch 19/100\n",
      "15942/15942 [==============================] - 0s 27us/step - loss: 0.6763 - val_loss: 0.7042\n",
      "Epoch 20/100\n",
      "15942/15942 [==============================] - 0s 23us/step - loss: 0.6763 - val_loss: 0.7023\n",
      "Epoch 21/100\n",
      "15942/15942 [==============================] - 0s 26us/step - loss: 0.6763 - val_loss: 0.7009\n",
      "Epoch 22/100\n",
      "15942/15942 [==============================] - 0s 24us/step - loss: 0.6762 - val_loss: 0.7007\n",
      "Epoch 23/100\n",
      "15942/15942 [==============================] - 0s 23us/step - loss: 0.6762 - val_loss: 0.7025\n",
      "Epoch 24/100\n",
      "15942/15942 [==============================] - 0s 21us/step - loss: 0.6763 - val_loss: 0.7050\n",
      "Epoch 25/100\n",
      "15942/15942 [==============================] - 0s 22us/step - loss: 0.6763 - val_loss: 0.7014\n",
      "Epoch 26/100\n",
      "15942/15942 [==============================] - 0s 21us/step - loss: 0.6763 - val_loss: 0.7021\n",
      "Epoch 27/100\n",
      "15942/15942 [==============================] - 0s 24us/step - loss: 0.6762 - val_loss: 0.7041\n",
      "Epoch 28/100\n",
      "15942/15942 [==============================] - 0s 20us/step - loss: 0.6762 - val_loss: 0.7022\n",
      "Epoch 29/100\n",
      "15942/15942 [==============================] - 0s 21us/step - loss: 0.6762 - val_loss: 0.7016\n",
      "Epoch 30/100\n",
      "15942/15942 [==============================] - 0s 21us/step - loss: 0.6763 - val_loss: 0.7027\n",
      "Epoch 31/100\n",
      "15942/15942 [==============================] - 0s 21us/step - loss: 0.6763 - val_loss: 0.7019\n",
      "Epoch 32/100\n",
      "15942/15942 [==============================] - 0s 21us/step - loss: 0.6764 - val_loss: 0.7050\n",
      "Epoch 33/100\n",
      "15942/15942 [==============================] - 0s 21us/step - loss: 0.6763 - val_loss: 0.7055\n",
      "Epoch 34/100\n",
      "15942/15942 [==============================] - 0s 22us/step - loss: 0.6763 - val_loss: 0.7024\n",
      "Epoch 35/100\n",
      "15942/15942 [==============================] - 0s 22us/step - loss: 0.6763 - val_loss: 0.7017\n",
      "Epoch 36/100\n",
      "15942/15942 [==============================] - 0s 21us/step - loss: 0.6762 - val_loss: 0.7029\n",
      "Epoch 37/100\n",
      "15942/15942 [==============================] - 0s 21us/step - loss: 0.6763 - val_loss: 0.7012\n",
      "Epoch 38/100\n",
      "15942/15942 [==============================] - 0s 24us/step - loss: 0.6763 - val_loss: 0.7035\n",
      "Epoch 39/100\n",
      "15942/15942 [==============================] - 0s 22us/step - loss: 0.6763 - val_loss: 0.7015\n",
      "Epoch 40/100\n",
      "15942/15942 [==============================] - 0s 22us/step - loss: 0.6764 - val_loss: 0.7060\n",
      "Epoch 41/100\n",
      "15942/15942 [==============================] - 0s 21us/step - loss: 0.6763 - val_loss: 0.7031\n",
      "Epoch 42/100\n",
      "15942/15942 [==============================] - 0s 21us/step - loss: 0.6763 - val_loss: 0.7049\n",
      "Epoch 43/100\n",
      "15942/15942 [==============================] - 0s 30us/step - loss: 0.6764 - val_loss: 0.7037\n",
      "Epoch 44/100\n",
      "15942/15942 [==============================] - 0s 24us/step - loss: 0.6763 - val_loss: 0.7027\n",
      "Epoch 45/100\n",
      "15942/15942 [==============================] - 0s 21us/step - loss: 0.6763 - val_loss: 0.7027\n",
      "Epoch 46/100\n",
      "15942/15942 [==============================] - 0s 21us/step - loss: 0.6763 - val_loss: 0.7034\n",
      "Epoch 47/100\n",
      "15942/15942 [==============================] - 0s 21us/step - loss: 0.6763 - val_loss: 0.7039\n",
      "Epoch 48/100\n",
      "15942/15942 [==============================] - 0s 24us/step - loss: 0.6764 - val_loss: 0.7039\n",
      "Epoch 49/100\n",
      "15942/15942 [==============================] - 0s 22us/step - loss: 0.6763 - val_loss: 0.6993\n",
      "Epoch 50/100\n",
      "15942/15942 [==============================] - 0s 23us/step - loss: 0.6762 - val_loss: 0.7051\n",
      "Epoch 51/100\n",
      "15942/15942 [==============================] - 0s 22us/step - loss: 0.6763 - val_loss: 0.7050\n",
      "Epoch 52/100\n",
      "15942/15942 [==============================] - 0s 21us/step - loss: 0.6763 - val_loss: 0.7018\n",
      "Epoch 53/100\n",
      "15942/15942 [==============================] - 0s 23us/step - loss: 0.6763 - val_loss: 0.7036\n",
      "Epoch 54/100\n",
      "15942/15942 [==============================] - 0s 21us/step - loss: 0.6763 - val_loss: 0.7014\n",
      "Epoch 55/100\n",
      "15942/15942 [==============================] - 0s 22us/step - loss: 0.6763 - val_loss: 0.7012\n",
      "Epoch 56/100\n",
      "15942/15942 [==============================] - 0s 21us/step - loss: 0.6763 - val_loss: 0.7014\n",
      "Epoch 57/100\n",
      "15942/15942 [==============================] - ETA: 0s - loss: 0.676 - 0s 21us/step - loss: 0.6763 - val_loss: 0.7071\n",
      "Epoch 58/100\n",
      "15942/15942 [==============================] - 0s 21us/step - loss: 0.6763 - val_loss: 0.7012\n",
      "Epoch 59/100\n",
      "15942/15942 [==============================] - 0s 21us/step - loss: 0.6763 - val_loss: 0.7024\n",
      "Epoch 60/100\n",
      "15942/15942 [==============================] - 0s 20us/step - loss: 0.6764 - val_loss: 0.7030\n",
      "Epoch 61/100\n",
      "15942/15942 [==============================] - 0s 22us/step - loss: 0.6763 - val_loss: 0.7019\n",
      "Epoch 62/100\n",
      "15942/15942 [==============================] - 0s 22us/step - loss: 0.6763 - val_loss: 0.7027\n",
      "Epoch 63/100\n",
      "15942/15942 [==============================] - 0s 22us/step - loss: 0.6763 - val_loss: 0.7031\n",
      "Epoch 64/100\n",
      "15942/15942 [==============================] - 0s 21us/step - loss: 0.6763 - val_loss: 0.7028\n",
      "Epoch 65/100\n",
      "15942/15942 [==============================] - 0s 21us/step - loss: 0.6763 - val_loss: 0.7057\n",
      "Epoch 66/100\n",
      "15942/15942 [==============================] - 0s 25us/step - loss: 0.6763 - val_loss: 0.7023\n",
      "Epoch 67/100\n",
      "15942/15942 [==============================] - 0s 23us/step - loss: 0.6762 - val_loss: 0.7002\n",
      "Epoch 68/100\n",
      "15942/15942 [==============================] - 0s 22us/step - loss: 0.6763 - val_loss: 0.7035\n",
      "Epoch 69/100\n",
      "15942/15942 [==============================] - 0s 21us/step - loss: 0.6763 - val_loss: 0.7004\n",
      "Epoch 70/100\n",
      "15942/15942 [==============================] - 0s 22us/step - loss: 0.6763 - val_loss: 0.7023\n",
      "Epoch 71/100\n",
      "15942/15942 [==============================] - 0s 27us/step - loss: 0.6763 - val_loss: 0.7028\n",
      "Epoch 72/100\n",
      "15942/15942 [==============================] - 0s 28us/step - loss: 0.6763 - val_loss: 0.7015\n",
      "Epoch 73/100\n",
      "15942/15942 [==============================] - 0s 22us/step - loss: 0.6764 - val_loss: 0.7017\n",
      "Epoch 74/100\n",
      "15942/15942 [==============================] - 0s 22us/step - loss: 0.6764 - val_loss: 0.7030\n",
      "Epoch 75/100\n",
      "15942/15942 [==============================] - 0s 23us/step - loss: 0.6763 - val_loss: 0.7062\n",
      "Epoch 76/100\n"
     ]
    },
    {
     "name": "stdout",
     "output_type": "stream",
     "text": [
      "15942/15942 [==============================] - 0s 23us/step - loss: 0.6762 - val_loss: 0.7020\n",
      "Epoch 77/100\n",
      "15942/15942 [==============================] - 0s 24us/step - loss: 0.6762 - val_loss: 0.7073\n",
      "Epoch 78/100\n",
      "15942/15942 [==============================] - 0s 22us/step - loss: 0.6764 - val_loss: 0.7022\n",
      "Epoch 79/100\n",
      "15942/15942 [==============================] - 0s 21us/step - loss: 0.6763 - val_loss: 0.7046\n",
      "Epoch 80/100\n",
      "15942/15942 [==============================] - 0s 22us/step - loss: 0.6763 - val_loss: 0.7047\n",
      "Epoch 81/100\n",
      "15942/15942 [==============================] - 0s 22us/step - loss: 0.6762 - val_loss: 0.7012\n",
      "Epoch 82/100\n",
      "15942/15942 [==============================] - 0s 23us/step - loss: 0.6763 - val_loss: 0.7049\n",
      "Epoch 83/100\n",
      "15942/15942 [==============================] - 0s 21us/step - loss: 0.6763 - val_loss: 0.7029\n",
      "Epoch 84/100\n",
      "15942/15942 [==============================] - 0s 22us/step - loss: 0.6763 - val_loss: 0.7015\n",
      "Epoch 85/100\n",
      "15942/15942 [==============================] - 0s 20us/step - loss: 0.6762 - val_loss: 0.7027\n",
      "Epoch 86/100\n",
      "15942/15942 [==============================] - 0s 23us/step - loss: 0.6763 - val_loss: 0.7041\n",
      "Epoch 87/100\n",
      "15942/15942 [==============================] - 0s 21us/step - loss: 0.6763 - val_loss: 0.7024\n",
      "Epoch 88/100\n",
      "15942/15942 [==============================] - 0s 22us/step - loss: 0.6762 - val_loss: 0.7037\n",
      "Epoch 89/100\n",
      "15942/15942 [==============================] - 0s 24us/step - loss: 0.6763 - val_loss: 0.7043\n",
      "Epoch 90/100\n",
      "15942/15942 [==============================] - 0s 21us/step - loss: 0.6762 - val_loss: 0.7047\n",
      "Epoch 91/100\n",
      "15942/15942 [==============================] - 0s 26us/step - loss: 0.6763 - val_loss: 0.7040\n",
      "Epoch 92/100\n",
      "15942/15942 [==============================] - 0s 23us/step - loss: 0.6763 - val_loss: 0.7021\n",
      "Epoch 93/100\n",
      "15942/15942 [==============================] - 0s 21us/step - loss: 0.6763 - val_loss: 0.7042\n",
      "Epoch 94/100\n",
      "15942/15942 [==============================] - 0s 24us/step - loss: 0.6763 - val_loss: 0.7055\n",
      "Epoch 95/100\n",
      "15942/15942 [==============================] - 0s 23us/step - loss: 0.6762 - val_loss: 0.7018\n",
      "Epoch 96/100\n",
      "15942/15942 [==============================] - 0s 22us/step - loss: 0.6763 - val_loss: 0.7054\n",
      "Epoch 97/100\n",
      "15942/15942 [==============================] - ETA: 0s - loss: 0.675 - 0s 21us/step - loss: 0.6762 - val_loss: 0.7027\n",
      "Epoch 98/100\n",
      "15942/15942 [==============================] - 0s 23us/step - loss: 0.6763 - val_loss: 0.7020\n",
      "Epoch 99/100\n",
      "15942/15942 [==============================] - 0s 31us/step - loss: 0.6763 - val_loss: 0.7050\n",
      "Epoch 100/100\n",
      "15942/15942 [==============================] - 0s 22us/step - loss: 0.6763 - val_loss: 0.7007\n"
     ]
    },
    {
     "data": {
      "image/png": "[encoded data removed]",
      "text/plain": [
       "<Figure size 432x288 with 1 Axes>"
      ]
     },
     "metadata": {
      "needs_background": "light"
     },
     "output_type": "display_data"
    },
    {
     "name": "stdout",
     "output_type": "stream",
     "text": [
      "0.9999212272059459 0.999093700917942\n",
      "0.045454545454545456\n",
      "got data\n"
     ]
    },
    {
     "ename": "KeyboardInterrupt",
     "evalue": "",
     "output_type": "error",
     "traceback": [
      "\u001b[1;31m---------------------------------------------------------------------------\u001b[0m",
      "\u001b[1;31mInvalidArgumentError\u001b[0m                      Traceback (most recent call last)",
      "\u001b[1;32m~\\anaconda3\\lib\\site-packages\\tensorflow_core\\python\\framework\\ops.py\u001b[0m in \u001b[0;36mget_attr\u001b[1;34m(self, name)\u001b[0m\n\u001b[0;32m   2325\u001b[0m       \u001b[1;32mwith\u001b[0m \u001b[0mc_api_util\u001b[0m\u001b[1;33m.\u001b[0m\u001b[0mtf_buffer\u001b[0m\u001b[1;33m(\u001b[0m\u001b[1;33m)\u001b[0m \u001b[1;32mas\u001b[0m \u001b[0mbuf\u001b[0m\u001b[1;33m:\u001b[0m\u001b[1;33m\u001b[0m\u001b[1;33m\u001b[0m\u001b[0m\n\u001b[1;32m-> 2326\u001b[1;33m         \u001b[0mc_api\u001b[0m\u001b[1;33m.\u001b[0m\u001b[0mTF_OperationGetAttrValueProto\u001b[0m\u001b[1;33m(\u001b[0m\u001b[0mself\u001b[0m\u001b[1;33m.\u001b[0m\u001b[0m_c_op\u001b[0m\u001b[1;33m,\u001b[0m \u001b[0mname\u001b[0m\u001b[1;33m,\u001b[0m \u001b[0mbuf\u001b[0m\u001b[1;33m)\u001b[0m\u001b[1;33m\u001b[0m\u001b[1;33m\u001b[0m\u001b[0m\n\u001b[0m\u001b[0;32m   2327\u001b[0m         \u001b[0mdata\u001b[0m \u001b[1;33m=\u001b[0m \u001b[0mc_api\u001b[0m\u001b[1;33m.\u001b[0m\u001b[0mTF_GetBuffer\u001b[0m\u001b[1;33m(\u001b[0m\u001b[0mbuf\u001b[0m\u001b[1;33m)\u001b[0m\u001b[1;33m\u001b[0m\u001b[1;33m\u001b[0m\u001b[0m\n",
      "\u001b[1;31mInvalidArgumentError\u001b[0m: Operation 'loss_5/Output_loss/binary_crossentropy/Mean' has no attr named '_XlaCompile'.",
      "\nDuring handling of the above exception, another exception occurred:\n",
      "\u001b[1;31mValueError\u001b[0m                                Traceback (most recent call last)",
      "\u001b[1;32m~\\anaconda3\\lib\\site-packages\\tensorflow_core\\python\\ops\\gradients_util.py\u001b[0m in \u001b[0;36m_MaybeCompile\u001b[1;34m(scope, op, func, grad_fn)\u001b[0m\n\u001b[0;32m    330\u001b[0m     \u001b[1;32mtry\u001b[0m\u001b[1;33m:\u001b[0m\u001b[1;33m\u001b[0m\u001b[1;33m\u001b[0m\u001b[0m\n\u001b[1;32m--> 331\u001b[1;33m       \u001b[0mxla_compile\u001b[0m \u001b[1;33m=\u001b[0m \u001b[0mop\u001b[0m\u001b[1;33m.\u001b[0m\u001b[0mget_attr\u001b[0m\u001b[1;33m(\u001b[0m\u001b[1;34m\"_XlaCompile\"\u001b[0m\u001b[1;33m)\u001b[0m\u001b[1;33m\u001b[0m\u001b[1;33m\u001b[0m\u001b[0m\n\u001b[0m\u001b[0;32m    332\u001b[0m       xla_separate_compiled_gradients = op.get_attr(\n",
      "\u001b[1;32m~\\anaconda3\\lib\\site-packages\\tensorflow_core\\python\\framework\\ops.py\u001b[0m in \u001b[0;36mget_attr\u001b[1;34m(self, name)\u001b[0m\n\u001b[0;32m   2329\u001b[0m       \u001b[1;31m# Convert to ValueError for backwards compatibility.\u001b[0m\u001b[1;33m\u001b[0m\u001b[1;33m\u001b[0m\u001b[1;33m\u001b[0m\u001b[0m\n\u001b[1;32m-> 2330\u001b[1;33m       \u001b[1;32mraise\u001b[0m \u001b[0mValueError\u001b[0m\u001b[1;33m(\u001b[0m\u001b[0mstr\u001b[0m\u001b[1;33m(\u001b[0m\u001b[0me\u001b[0m\u001b[1;33m)\u001b[0m\u001b[1;33m)\u001b[0m\u001b[1;33m\u001b[0m\u001b[1;33m\u001b[0m\u001b[0m\n\u001b[0m\u001b[0;32m   2331\u001b[0m     \u001b[0mx\u001b[0m \u001b[1;33m=\u001b[0m \u001b[0mattr_value_pb2\u001b[0m\u001b[1;33m.\u001b[0m\u001b[0mAttrValue\u001b[0m\u001b[1;33m(\u001b[0m\u001b[1;33m)\u001b[0m\u001b[1;33m\u001b[0m\u001b[1;33m\u001b[0m\u001b[0m\n",
      "\u001b[1;31mValueError\u001b[0m: Operation 'loss_5/Output_loss/binary_crossentropy/Mean' has no attr named '_XlaCompile'.",
      "\nDuring handling of the above exception, another exception occurred:\n",
      "\u001b[1;31mKeyboardInterrupt\u001b[0m                         Traceback (most recent call last)",
      "\u001b[1;32m<ipython-input-39-3f9a5c23a2f4>\u001b[0m in \u001b[0;36m<module>\u001b[1;34m\u001b[0m\n\u001b[0;32m     97\u001b[0m                        loss=\"binary_crossentropy\")\n\u001b[0;32m     98\u001b[0m     history=network.fit(X_train_batch, Y_train_batch, \\\n\u001b[1;32m---> 99\u001b[1;33m                         epochs=num_epochs, batch_size=batch_size, validation_data=(X_val_batch, Y_val_batch))\n\u001b[0m\u001b[0;32m    100\u001b[0m     \u001b[0mplt\u001b[0m\u001b[1;33m.\u001b[0m\u001b[0mplot\u001b[0m\u001b[1;33m(\u001b[0m\u001b[0mhistory\u001b[0m\u001b[1;33m.\u001b[0m\u001b[0mhistory\u001b[0m\u001b[1;33m[\u001b[0m\u001b[1;34m\"loss\"\u001b[0m\u001b[1;33m]\u001b[0m\u001b[1;33m,\u001b[0m \u001b[0mmarker\u001b[0m \u001b[1;33m=\u001b[0m \u001b[1;34m\".\"\u001b[0m\u001b[1;33m,\u001b[0m\u001b[0mlinestyle\u001b[0m\u001b[1;33m=\u001b[0m\u001b[1;34m'None'\u001b[0m\u001b[1;33m,\u001b[0m \u001b[0mcolor\u001b[0m \u001b[1;33m=\u001b[0m \u001b[1;34m\"b\"\u001b[0m\u001b[1;33m)\u001b[0m\u001b[1;33m\u001b[0m\u001b[1;33m\u001b[0m\u001b[0m\n\u001b[0;32m    101\u001b[0m     \u001b[0mplt\u001b[0m\u001b[1;33m.\u001b[0m\u001b[0mplot\u001b[0m\u001b[1;33m(\u001b[0m\u001b[0mhistory\u001b[0m\u001b[1;33m.\u001b[0m\u001b[0mhistory\u001b[0m\u001b[1;33m[\u001b[0m\u001b[1;34m\"val_loss\"\u001b[0m\u001b[1;33m]\u001b[0m\u001b[1;33m,\u001b[0m \u001b[0mmarker\u001b[0m \u001b[1;33m=\u001b[0m \u001b[1;34m\".\"\u001b[0m\u001b[1;33m,\u001b[0m\u001b[0mlinestyle\u001b[0m\u001b[1;33m=\u001b[0m\u001b[1;34m'None'\u001b[0m\u001b[1;33m,\u001b[0m \u001b[0mcolor\u001b[0m \u001b[1;33m=\u001b[0m\u001b[1;34m\"r\"\u001b[0m\u001b[1;33m)\u001b[0m\u001b[1;33m\u001b[0m\u001b[1;33m\u001b[0m\u001b[0m\n",
      "\u001b[1;32m~\\anaconda3\\lib\\site-packages\\keras\\engine\\training.py\u001b[0m in \u001b[0;36mfit\u001b[1;34m(self, x, y, batch_size, epochs, verbose, callbacks, validation_split, validation_data, shuffle, class_weight, sample_weight, initial_epoch, steps_per_epoch, validation_steps, validation_freq, max_queue_size, workers, use_multiprocessing, **kwargs)\u001b[0m\n\u001b[0;32m   1211\u001b[0m         \u001b[1;32melse\u001b[0m\u001b[1;33m:\u001b[0m\u001b[1;33m\u001b[0m\u001b[1;33m\u001b[0m\u001b[0m\n\u001b[0;32m   1212\u001b[0m             \u001b[0mfit_inputs\u001b[0m \u001b[1;33m=\u001b[0m \u001b[0mx\u001b[0m \u001b[1;33m+\u001b[0m \u001b[0my\u001b[0m \u001b[1;33m+\u001b[0m \u001b[0msample_weights\u001b[0m\u001b[1;33m\u001b[0m\u001b[1;33m\u001b[0m\u001b[0m\n\u001b[1;32m-> 1213\u001b[1;33m         \u001b[0mself\u001b[0m\u001b[1;33m.\u001b[0m\u001b[0m_make_train_function\u001b[0m\u001b[1;33m(\u001b[0m\u001b[1;33m)\u001b[0m\u001b[1;33m\u001b[0m\u001b[1;33m\u001b[0m\u001b[0m\n\u001b[0m\u001b[0;32m   1214\u001b[0m         \u001b[0mfit_function\u001b[0m \u001b[1;33m=\u001b[0m \u001b[0mself\u001b[0m\u001b[1;33m.\u001b[0m\u001b[0mtrain_function\u001b[0m\u001b[1;33m\u001b[0m\u001b[1;33m\u001b[0m\u001b[0m\n\u001b[0;32m   1215\u001b[0m \u001b[1;33m\u001b[0m\u001b[0m\n",
      "\u001b[1;32m~\\anaconda3\\lib\\site-packages\\keras\\engine\\training.py\u001b[0m in \u001b[0;36m_make_train_function\u001b[1;34m(self)\u001b[0m\n\u001b[0;32m    314\u001b[0m                     training_updates = self.optimizer.get_updates(\n\u001b[0;32m    315\u001b[0m                         \u001b[0mparams\u001b[0m\u001b[1;33m=\u001b[0m\u001b[0mself\u001b[0m\u001b[1;33m.\u001b[0m\u001b[0m_collected_trainable_weights\u001b[0m\u001b[1;33m,\u001b[0m\u001b[1;33m\u001b[0m\u001b[1;33m\u001b[0m\u001b[0m\n\u001b[1;32m--> 316\u001b[1;33m                         loss=self.total_loss)\n\u001b[0m\u001b[0;32m    317\u001b[0m                 \u001b[0mupdates\u001b[0m \u001b[1;33m=\u001b[0m \u001b[0mself\u001b[0m\u001b[1;33m.\u001b[0m\u001b[0mupdates\u001b[0m \u001b[1;33m+\u001b[0m \u001b[0mtraining_updates\u001b[0m\u001b[1;33m\u001b[0m\u001b[1;33m\u001b[0m\u001b[0m\n\u001b[0;32m    318\u001b[0m \u001b[1;33m\u001b[0m\u001b[0m\n",
      "\u001b[1;32m~\\anaconda3\\lib\\site-packages\\keras\\legacy\\interfaces.py\u001b[0m in \u001b[0;36mwrapper\u001b[1;34m(*args, **kwargs)\u001b[0m\n\u001b[0;32m     89\u001b[0m                 warnings.warn('Update your `' + object_name + '` call to the ' +\n\u001b[0;32m     90\u001b[0m                               'Keras 2 API: ' + signature, stacklevel=2)\n\u001b[1;32m---> 91\u001b[1;33m             \u001b[1;32mreturn\u001b[0m \u001b[0mfunc\u001b[0m\u001b[1;33m(\u001b[0m\u001b[1;33m*\u001b[0m\u001b[0margs\u001b[0m\u001b[1;33m,\u001b[0m \u001b[1;33m**\u001b[0m\u001b[0mkwargs\u001b[0m\u001b[1;33m)\u001b[0m\u001b[1;33m\u001b[0m\u001b[1;33m\u001b[0m\u001b[0m\n\u001b[0m\u001b[0;32m     92\u001b[0m         \u001b[0mwrapper\u001b[0m\u001b[1;33m.\u001b[0m\u001b[0m_original_function\u001b[0m \u001b[1;33m=\u001b[0m \u001b[0mfunc\u001b[0m\u001b[1;33m\u001b[0m\u001b[1;33m\u001b[0m\u001b[0m\n\u001b[0;32m     93\u001b[0m         \u001b[1;32mreturn\u001b[0m \u001b[0mwrapper\u001b[0m\u001b[1;33m\u001b[0m\u001b[1;33m\u001b[0m\u001b[0m\n",
      "\u001b[1;32m~\\anaconda3\\lib\\site-packages\\keras\\backend\\tensorflow_backend.py\u001b[0m in \u001b[0;36msymbolic_fn_wrapper\u001b[1;34m(*args, **kwargs)\u001b[0m\n\u001b[0;32m     73\u001b[0m         \u001b[1;32mif\u001b[0m \u001b[0m_SYMBOLIC_SCOPE\u001b[0m\u001b[1;33m.\u001b[0m\u001b[0mvalue\u001b[0m\u001b[1;33m:\u001b[0m\u001b[1;33m\u001b[0m\u001b[1;33m\u001b[0m\u001b[0m\n\u001b[0;32m     74\u001b[0m             \u001b[1;32mwith\u001b[0m \u001b[0mget_graph\u001b[0m\u001b[1;33m(\u001b[0m\u001b[1;33m)\u001b[0m\u001b[1;33m.\u001b[0m\u001b[0mas_default\u001b[0m\u001b[1;33m(\u001b[0m\u001b[1;33m)\u001b[0m\u001b[1;33m:\u001b[0m\u001b[1;33m\u001b[0m\u001b[1;33m\u001b[0m\u001b[0m\n\u001b[1;32m---> 75\u001b[1;33m                 \u001b[1;32mreturn\u001b[0m \u001b[0mfunc\u001b[0m\u001b[1;33m(\u001b[0m\u001b[1;33m*\u001b[0m\u001b[0margs\u001b[0m\u001b[1;33m,\u001b[0m \u001b[1;33m**\u001b[0m\u001b[0mkwargs\u001b[0m\u001b[1;33m)\u001b[0m\u001b[1;33m\u001b[0m\u001b[1;33m\u001b[0m\u001b[0m\n\u001b[0m\u001b[0;32m     76\u001b[0m         \u001b[1;32melse\u001b[0m\u001b[1;33m:\u001b[0m\u001b[1;33m\u001b[0m\u001b[1;33m\u001b[0m\u001b[0m\n\u001b[0;32m     77\u001b[0m             \u001b[1;32mreturn\u001b[0m \u001b[0mfunc\u001b[0m\u001b[1;33m(\u001b[0m\u001b[1;33m*\u001b[0m\u001b[0margs\u001b[0m\u001b[1;33m,\u001b[0m \u001b[1;33m**\u001b[0m\u001b[0mkwargs\u001b[0m\u001b[1;33m)\u001b[0m\u001b[1;33m\u001b[0m\u001b[1;33m\u001b[0m\u001b[0m\n",
      "\u001b[1;32m~\\anaconda3\\lib\\site-packages\\keras\\optimizers.py\u001b[0m in \u001b[0;36mget_updates\u001b[1;34m(self, loss, params)\u001b[0m\n\u001b[0;32m    502\u001b[0m     \u001b[1;33m@\u001b[0m\u001b[0mK\u001b[0m\u001b[1;33m.\u001b[0m\u001b[0msymbolic\u001b[0m\u001b[1;33m\u001b[0m\u001b[1;33m\u001b[0m\u001b[0m\n\u001b[0;32m    503\u001b[0m     \u001b[1;32mdef\u001b[0m \u001b[0mget_updates\u001b[0m\u001b[1;33m(\u001b[0m\u001b[0mself\u001b[0m\u001b[1;33m,\u001b[0m \u001b[0mloss\u001b[0m\u001b[1;33m,\u001b[0m \u001b[0mparams\u001b[0m\u001b[1;33m)\u001b[0m\u001b[1;33m:\u001b[0m\u001b[1;33m\u001b[0m\u001b[1;33m\u001b[0m\u001b[0m\n\u001b[1;32m--> 504\u001b[1;33m         \u001b[0mgrads\u001b[0m \u001b[1;33m=\u001b[0m \u001b[0mself\u001b[0m\u001b[1;33m.\u001b[0m\u001b[0mget_gradients\u001b[0m\u001b[1;33m(\u001b[0m\u001b[0mloss\u001b[0m\u001b[1;33m,\u001b[0m \u001b[0mparams\u001b[0m\u001b[1;33m)\u001b[0m\u001b[1;33m\u001b[0m\u001b[1;33m\u001b[0m\u001b[0m\n\u001b[0m\u001b[0;32m    505\u001b[0m         \u001b[0mself\u001b[0m\u001b[1;33m.\u001b[0m\u001b[0mupdates\u001b[0m \u001b[1;33m=\u001b[0m \u001b[1;33m[\u001b[0m\u001b[0mK\u001b[0m\u001b[1;33m.\u001b[0m\u001b[0mupdate_add\u001b[0m\u001b[1;33m(\u001b[0m\u001b[0mself\u001b[0m\u001b[1;33m.\u001b[0m\u001b[0miterations\u001b[0m\u001b[1;33m,\u001b[0m \u001b[1;36m1\u001b[0m\u001b[1;33m)\u001b[0m\u001b[1;33m]\u001b[0m\u001b[1;33m\u001b[0m\u001b[1;33m\u001b[0m\u001b[0m\n\u001b[0;32m    506\u001b[0m \u001b[1;33m\u001b[0m\u001b[0m\n",
      "\u001b[1;32m~\\anaconda3\\lib\\site-packages\\keras\\optimizers.py\u001b[0m in \u001b[0;36mget_gradients\u001b[1;34m(self, loss, params)\u001b[0m\n\u001b[0;32m     89\u001b[0m \u001b[1;33m\u001b[0m\u001b[0m\n\u001b[0;32m     90\u001b[0m     \u001b[1;32mdef\u001b[0m \u001b[0mget_gradients\u001b[0m\u001b[1;33m(\u001b[0m\u001b[0mself\u001b[0m\u001b[1;33m,\u001b[0m \u001b[0mloss\u001b[0m\u001b[1;33m,\u001b[0m \u001b[0mparams\u001b[0m\u001b[1;33m)\u001b[0m\u001b[1;33m:\u001b[0m\u001b[1;33m\u001b[0m\u001b[1;33m\u001b[0m\u001b[0m\n\u001b[1;32m---> 91\u001b[1;33m         \u001b[0mgrads\u001b[0m \u001b[1;33m=\u001b[0m \u001b[0mK\u001b[0m\u001b[1;33m.\u001b[0m\u001b[0mgradients\u001b[0m\u001b[1;33m(\u001b[0m\u001b[0mloss\u001b[0m\u001b[1;33m,\u001b[0m \u001b[0mparams\u001b[0m\u001b[1;33m)\u001b[0m\u001b[1;33m\u001b[0m\u001b[1;33m\u001b[0m\u001b[0m\n\u001b[0m\u001b[0;32m     92\u001b[0m         \u001b[1;32mif\u001b[0m \u001b[0many\u001b[0m\u001b[1;33m(\u001b[0m\u001b[0mx\u001b[0m \u001b[1;32mis\u001b[0m \u001b[1;32mNone\u001b[0m \u001b[1;32mfor\u001b[0m \u001b[0mx\u001b[0m \u001b[1;32min\u001b[0m \u001b[0mgrads\u001b[0m\u001b[1;33m)\u001b[0m\u001b[1;33m:\u001b[0m\u001b[1;33m\u001b[0m\u001b[1;33m\u001b[0m\u001b[0m\n\u001b[0;32m     93\u001b[0m             raise ValueError('An operation has `None` for gradient. '\n",
      "\u001b[1;32m~\\anaconda3\\lib\\site-packages\\keras\\backend\\tensorflow_backend.py\u001b[0m in \u001b[0;36msymbolic_fn_wrapper\u001b[1;34m(*args, **kwargs)\u001b[0m\n\u001b[0;32m     73\u001b[0m         \u001b[1;32mif\u001b[0m \u001b[0m_SYMBOLIC_SCOPE\u001b[0m\u001b[1;33m.\u001b[0m\u001b[0mvalue\u001b[0m\u001b[1;33m:\u001b[0m\u001b[1;33m\u001b[0m\u001b[1;33m\u001b[0m\u001b[0m\n\u001b[0;32m     74\u001b[0m             \u001b[1;32mwith\u001b[0m \u001b[0mget_graph\u001b[0m\u001b[1;33m(\u001b[0m\u001b[1;33m)\u001b[0m\u001b[1;33m.\u001b[0m\u001b[0mas_default\u001b[0m\u001b[1;33m(\u001b[0m\u001b[1;33m)\u001b[0m\u001b[1;33m:\u001b[0m\u001b[1;33m\u001b[0m\u001b[1;33m\u001b[0m\u001b[0m\n\u001b[1;32m---> 75\u001b[1;33m                 \u001b[1;32mreturn\u001b[0m \u001b[0mfunc\u001b[0m\u001b[1;33m(\u001b[0m\u001b[1;33m*\u001b[0m\u001b[0margs\u001b[0m\u001b[1;33m,\u001b[0m \u001b[1;33m**\u001b[0m\u001b[0mkwargs\u001b[0m\u001b[1;33m)\u001b[0m\u001b[1;33m\u001b[0m\u001b[1;33m\u001b[0m\u001b[0m\n\u001b[0m\u001b[0;32m     76\u001b[0m         \u001b[1;32melse\u001b[0m\u001b[1;33m:\u001b[0m\u001b[1;33m\u001b[0m\u001b[1;33m\u001b[0m\u001b[0m\n\u001b[0;32m     77\u001b[0m             \u001b[1;32mreturn\u001b[0m \u001b[0mfunc\u001b[0m\u001b[1;33m(\u001b[0m\u001b[1;33m*\u001b[0m\u001b[0margs\u001b[0m\u001b[1;33m,\u001b[0m \u001b[1;33m**\u001b[0m\u001b[0mkwargs\u001b[0m\u001b[1;33m)\u001b[0m\u001b[1;33m\u001b[0m\u001b[1;33m\u001b[0m\u001b[0m\n",
      "\u001b[1;32m~\\anaconda3\\lib\\site-packages\\keras\\backend\\tensorflow_backend.py\u001b[0m in \u001b[0;36mgradients\u001b[1;34m(loss, variables)\u001b[0m\n\u001b[0;32m   3023\u001b[0m     \u001b[1;32mif\u001b[0m \u001b[0m_is_tf_1\u001b[0m\u001b[1;33m(\u001b[0m\u001b[1;33m)\u001b[0m\u001b[1;33m:\u001b[0m\u001b[1;33m\u001b[0m\u001b[1;33m\u001b[0m\u001b[0m\n\u001b[0;32m   3024\u001b[0m         \u001b[1;32mreturn\u001b[0m \u001b[0mtf\u001b[0m\u001b[1;33m.\u001b[0m\u001b[0mgradients\u001b[0m\u001b[1;33m(\u001b[0m\u001b[0mloss\u001b[0m\u001b[1;33m,\u001b[0m \u001b[0mvariables\u001b[0m\u001b[1;33m,\u001b[0m \u001b[0mcolocate_gradients_with_ops\u001b[0m\u001b[1;33m=\u001b[0m\u001b[1;32mTrue\u001b[0m\u001b[1;33m)\u001b[0m\u001b[1;33m\u001b[0m\u001b[1;33m\u001b[0m\u001b[0m\n\u001b[1;32m-> 3025\u001b[1;33m     \u001b[1;32mreturn\u001b[0m \u001b[0mtf\u001b[0m\u001b[1;33m.\u001b[0m\u001b[0mgradients\u001b[0m\u001b[1;33m(\u001b[0m\u001b[0mloss\u001b[0m\u001b[1;33m,\u001b[0m \u001b[0mvariables\u001b[0m\u001b[1;33m)\u001b[0m\u001b[1;33m\u001b[0m\u001b[1;33m\u001b[0m\u001b[0m\n\u001b[0m\u001b[0;32m   3026\u001b[0m \u001b[1;33m\u001b[0m\u001b[0m\n\u001b[0;32m   3027\u001b[0m \u001b[1;33m\u001b[0m\u001b[0m\n",
      "\u001b[1;32m~\\anaconda3\\lib\\site-packages\\tensorflow_core\\python\\ops\\gradients_impl.py\u001b[0m in \u001b[0;36mgradients_v2\u001b[1;34m(ys, xs, grad_ys, name, gate_gradients, aggregation_method, stop_gradients, unconnected_gradients)\u001b[0m\n\u001b[0;32m    272\u001b[0m         \u001b[0mys\u001b[0m\u001b[1;33m,\u001b[0m \u001b[0mxs\u001b[0m\u001b[1;33m,\u001b[0m \u001b[0mgrad_ys\u001b[0m\u001b[1;33m,\u001b[0m \u001b[0mname\u001b[0m\u001b[1;33m,\u001b[0m \u001b[1;32mTrue\u001b[0m\u001b[1;33m,\u001b[0m \u001b[0mgate_gradients\u001b[0m\u001b[1;33m,\u001b[0m\u001b[1;33m\u001b[0m\u001b[1;33m\u001b[0m\u001b[0m\n\u001b[0;32m    273\u001b[0m         \u001b[0maggregation_method\u001b[0m\u001b[1;33m,\u001b[0m \u001b[0mstop_gradients\u001b[0m\u001b[1;33m,\u001b[0m\u001b[1;33m\u001b[0m\u001b[1;33m\u001b[0m\u001b[0m\n\u001b[1;32m--> 274\u001b[1;33m         unconnected_gradients)\n\u001b[0m\u001b[0;32m    275\u001b[0m   \u001b[1;31m# pylint: enable=protected-access\u001b[0m\u001b[1;33m\u001b[0m\u001b[1;33m\u001b[0m\u001b[1;33m\u001b[0m\u001b[0m\n\u001b[0;32m    276\u001b[0m \u001b[1;33m\u001b[0m\u001b[0m\n",
      "\u001b[1;32m~\\anaconda3\\lib\\site-packages\\tensorflow_core\\python\\ops\\gradients_util.py\u001b[0m in \u001b[0;36m_GradientsHelper\u001b[1;34m(ys, xs, grad_ys, name, colocate_gradients_with_ops, gate_gradients, aggregation_method, stop_gradients, unconnected_gradients, src_graph)\u001b[0m\n\u001b[0;32m    667\u001b[0m                 \u001b[1;31m# functions.\u001b[0m\u001b[1;33m\u001b[0m\u001b[1;33m\u001b[0m\u001b[1;33m\u001b[0m\u001b[0m\n\u001b[0;32m    668\u001b[0m                 in_grads = _MaybeCompile(grad_scope, op, func_call,\n\u001b[1;32m--> 669\u001b[1;33m                                          lambda: grad_fn(op, *out_grads))\n\u001b[0m\u001b[0;32m    670\u001b[0m               \u001b[1;32melse\u001b[0m\u001b[1;33m:\u001b[0m\u001b[1;33m\u001b[0m\u001b[1;33m\u001b[0m\u001b[0m\n\u001b[0;32m    671\u001b[0m                 \u001b[1;31m# For function call ops, we add a 'SymbolicGradient'\u001b[0m\u001b[1;33m\u001b[0m\u001b[1;33m\u001b[0m\u001b[1;33m\u001b[0m\u001b[0m\n",
      "\u001b[1;32m~\\anaconda3\\lib\\site-packages\\tensorflow_core\\python\\ops\\gradients_util.py\u001b[0m in \u001b[0;36m_MaybeCompile\u001b[1;34m(scope, op, func, grad_fn)\u001b[0m\n\u001b[0;32m    334\u001b[0m       \u001b[0mxla_scope\u001b[0m \u001b[1;33m=\u001b[0m \u001b[0mop\u001b[0m\u001b[1;33m.\u001b[0m\u001b[0mget_attr\u001b[0m\u001b[1;33m(\u001b[0m\u001b[1;34m\"_XlaScope\"\u001b[0m\u001b[1;33m)\u001b[0m\u001b[1;33m.\u001b[0m\u001b[0mdecode\u001b[0m\u001b[1;33m(\u001b[0m\u001b[1;33m)\u001b[0m\u001b[1;33m\u001b[0m\u001b[1;33m\u001b[0m\u001b[0m\n\u001b[0;32m    335\u001b[0m     \u001b[1;32mexcept\u001b[0m \u001b[0mValueError\u001b[0m\u001b[1;33m:\u001b[0m\u001b[1;33m\u001b[0m\u001b[1;33m\u001b[0m\u001b[0m\n\u001b[1;32m--> 336\u001b[1;33m       \u001b[1;32mreturn\u001b[0m \u001b[0mgrad_fn\u001b[0m\u001b[1;33m(\u001b[0m\u001b[1;33m)\u001b[0m  \u001b[1;31m# Exit early\u001b[0m\u001b[1;33m\u001b[0m\u001b[1;33m\u001b[0m\u001b[0m\n\u001b[0m\u001b[0;32m    337\u001b[0m \u001b[1;33m\u001b[0m\u001b[0m\n\u001b[0;32m    338\u001b[0m   \u001b[1;32mif\u001b[0m \u001b[1;32mnot\u001b[0m \u001b[0mxla_compile\u001b[0m\u001b[1;33m:\u001b[0m\u001b[1;33m\u001b[0m\u001b[1;33m\u001b[0m\u001b[0m\n",
      "\u001b[1;32m~\\anaconda3\\lib\\site-packages\\tensorflow_core\\python\\ops\\gradients_util.py\u001b[0m in \u001b[0;36m<lambda>\u001b[1;34m()\u001b[0m\n\u001b[0;32m    667\u001b[0m                 \u001b[1;31m# functions.\u001b[0m\u001b[1;33m\u001b[0m\u001b[1;33m\u001b[0m\u001b[1;33m\u001b[0m\u001b[0m\n\u001b[0;32m    668\u001b[0m                 in_grads = _MaybeCompile(grad_scope, op, func_call,\n\u001b[1;32m--> 669\u001b[1;33m                                          lambda: grad_fn(op, *out_grads))\n\u001b[0m\u001b[0;32m    670\u001b[0m               \u001b[1;32melse\u001b[0m\u001b[1;33m:\u001b[0m\u001b[1;33m\u001b[0m\u001b[1;33m\u001b[0m\u001b[0m\n\u001b[0;32m    671\u001b[0m                 \u001b[1;31m# For function call ops, we add a 'SymbolicGradient'\u001b[0m\u001b[1;33m\u001b[0m\u001b[1;33m\u001b[0m\u001b[1;33m\u001b[0m\u001b[0m\n",
      "\u001b[1;32m~\\anaconda3\\lib\\site-packages\\tensorflow_core\\python\\ops\\math_grad.py\u001b[0m in \u001b[0;36m_MeanGrad\u001b[1;34m(op, grad)\u001b[0m\n\u001b[0;32m    256\u001b[0m \u001b[1;32mdef\u001b[0m \u001b[0m_MeanGrad\u001b[0m\u001b[1;33m(\u001b[0m\u001b[0mop\u001b[0m\u001b[1;33m,\u001b[0m \u001b[0mgrad\u001b[0m\u001b[1;33m)\u001b[0m\u001b[1;33m:\u001b[0m\u001b[1;33m\u001b[0m\u001b[1;33m\u001b[0m\u001b[0m\n\u001b[0;32m    257\u001b[0m   \u001b[1;34m\"\"\"Gradient for Mean.\"\"\"\u001b[0m\u001b[1;33m\u001b[0m\u001b[1;33m\u001b[0m\u001b[0m\n\u001b[1;32m--> 258\u001b[1;33m   \u001b[0msum_grad\u001b[0m \u001b[1;33m=\u001b[0m \u001b[0m_SumGrad\u001b[0m\u001b[1;33m(\u001b[0m\u001b[0mop\u001b[0m\u001b[1;33m,\u001b[0m \u001b[0mgrad\u001b[0m\u001b[1;33m)\u001b[0m\u001b[1;33m[\u001b[0m\u001b[1;36m0\u001b[0m\u001b[1;33m]\u001b[0m\u001b[1;33m\u001b[0m\u001b[1;33m\u001b[0m\u001b[0m\n\u001b[0m\u001b[0;32m    259\u001b[0m   \u001b[0minput_shape\u001b[0m \u001b[1;33m=\u001b[0m \u001b[0mop\u001b[0m\u001b[1;33m.\u001b[0m\u001b[0minputs\u001b[0m\u001b[1;33m[\u001b[0m\u001b[1;36m0\u001b[0m\u001b[1;33m]\u001b[0m\u001b[1;33m.\u001b[0m\u001b[0m_shape_tuple\u001b[0m\u001b[1;33m(\u001b[0m\u001b[1;33m)\u001b[0m  \u001b[1;31m# pylint: disable=protected-access\u001b[0m\u001b[1;33m\u001b[0m\u001b[1;33m\u001b[0m\u001b[0m\n\u001b[0;32m    260\u001b[0m   \u001b[0moutput_shape\u001b[0m \u001b[1;33m=\u001b[0m \u001b[0mop\u001b[0m\u001b[1;33m.\u001b[0m\u001b[0moutputs\u001b[0m\u001b[1;33m[\u001b[0m\u001b[1;36m0\u001b[0m\u001b[1;33m]\u001b[0m\u001b[1;33m.\u001b[0m\u001b[0m_shape_tuple\u001b[0m\u001b[1;33m(\u001b[0m\u001b[1;33m)\u001b[0m  \u001b[1;31m# pylint: disable=protected-access\u001b[0m\u001b[1;33m\u001b[0m\u001b[1;33m\u001b[0m\u001b[0m\n",
      "\u001b[1;32m~\\anaconda3\\lib\\site-packages\\tensorflow_core\\python\\ops\\math_grad.py\u001b[0m in \u001b[0;36m_SumGrad\u001b[1;34m(op, grad)\u001b[0m\n\u001b[0;32m    211\u001b[0m         \u001b[1;31m# more sense.\u001b[0m\u001b[1;33m\u001b[0m\u001b[1;33m\u001b[0m\u001b[1;33m\u001b[0m\u001b[0m\n\u001b[0;32m    212\u001b[0m         output_shape_kept_dims = math_ops.reduced_shape(input_shape,\n\u001b[1;32m--> 213\u001b[1;33m                                                         op.inputs[1])\n\u001b[0m\u001b[0;32m    214\u001b[0m       \u001b[0mgrad\u001b[0m \u001b[1;33m=\u001b[0m \u001b[0marray_ops\u001b[0m\u001b[1;33m.\u001b[0m\u001b[0mreshape\u001b[0m\u001b[1;33m(\u001b[0m\u001b[0mgrad\u001b[0m\u001b[1;33m,\u001b[0m \u001b[0moutput_shape_kept_dims\u001b[0m\u001b[1;33m)\u001b[0m\u001b[1;33m\u001b[0m\u001b[1;33m\u001b[0m\u001b[0m\n\u001b[0;32m    215\u001b[0m     \u001b[1;32mreturn\u001b[0m \u001b[1;33m[\u001b[0m\u001b[0marray_ops\u001b[0m\u001b[1;33m.\u001b[0m\u001b[0mbroadcast_to\u001b[0m\u001b[1;33m(\u001b[0m\u001b[0mgrad\u001b[0m\u001b[1;33m,\u001b[0m \u001b[0minput_shape\u001b[0m\u001b[1;33m)\u001b[0m\u001b[1;33m,\u001b[0m \u001b[1;32mNone\u001b[0m\u001b[1;33m]\u001b[0m\u001b[1;33m\u001b[0m\u001b[1;33m\u001b[0m\u001b[0m\n",
      "\u001b[1;32m~\\anaconda3\\lib\\site-packages\\tensorflow_core\\python\\ops\\math_ops.py\u001b[0m in \u001b[0;36mreduced_shape\u001b[1;34m(input_shape, axes)\u001b[0m\n\u001b[0;32m   3515\u001b[0m   return gen_data_flow_ops.dynamic_stitch(  # [2, 1, 1, 7]\n\u001b[0;32m   3516\u001b[0m       [\n\u001b[1;32m-> 3517\u001b[1;33m           \u001b[0mrange\u001b[0m\u001b[1;33m(\u001b[0m\u001b[0minput_rank\u001b[0m\u001b[1;33m)\u001b[0m\u001b[1;33m,\u001b[0m  \u001b[1;31m# [0, 1, 2, 3]\u001b[0m\u001b[1;33m\u001b[0m\u001b[1;33m\u001b[0m\u001b[0m\n\u001b[0m\u001b[0;32m   3518\u001b[0m           \u001b[0maxes\u001b[0m\u001b[1;33m\u001b[0m\u001b[1;33m\u001b[0m\u001b[0m\n\u001b[0;32m   3519\u001b[0m       ],  # [1, 2]\n",
      "\u001b[1;32m~\\anaconda3\\lib\\site-packages\\tensorflow_core\\python\\ops\\math_ops.py\u001b[0m in \u001b[0;36mrange\u001b[1;34m(start, limit, delta, dtype, name)\u001b[0m\n\u001b[0;32m   1444\u001b[0m       \u001b[0mdelta\u001b[0m \u001b[1;33m=\u001b[0m \u001b[0mcast\u001b[0m\u001b[1;33m(\u001b[0m\u001b[0mdelta\u001b[0m\u001b[1;33m,\u001b[0m \u001b[0minferred_dtype\u001b[0m\u001b[1;33m)\u001b[0m\u001b[1;33m\u001b[0m\u001b[1;33m\u001b[0m\u001b[0m\n\u001b[0;32m   1445\u001b[0m \u001b[1;33m\u001b[0m\u001b[0m\n\u001b[1;32m-> 1446\u001b[1;33m     \u001b[1;32mreturn\u001b[0m \u001b[0mgen_math_ops\u001b[0m\u001b[1;33m.\u001b[0m\u001b[0m_range\u001b[0m\u001b[1;33m(\u001b[0m\u001b[0mstart\u001b[0m\u001b[1;33m,\u001b[0m \u001b[0mlimit\u001b[0m\u001b[1;33m,\u001b[0m \u001b[0mdelta\u001b[0m\u001b[1;33m,\u001b[0m \u001b[0mname\u001b[0m\u001b[1;33m=\u001b[0m\u001b[0mname\u001b[0m\u001b[1;33m)\u001b[0m\u001b[1;33m\u001b[0m\u001b[1;33m\u001b[0m\u001b[0m\n\u001b[0m\u001b[0;32m   1447\u001b[0m \u001b[1;33m\u001b[0m\u001b[0m\n\u001b[0;32m   1448\u001b[0m \u001b[1;33m\u001b[0m\u001b[0m\n",
      "\u001b[1;32m~\\anaconda3\\lib\\site-packages\\tensorflow_core\\python\\ops\\gen_math_ops.py\u001b[0m in \u001b[0;36m_range\u001b[1;34m(start, limit, delta, name)\u001b[0m\n\u001b[0;32m   7155\u001b[0m   \u001b[1;31m# Add nodes to the TensorFlow graph.\u001b[0m\u001b[1;33m\u001b[0m\u001b[1;33m\u001b[0m\u001b[1;33m\u001b[0m\u001b[0m\n\u001b[0;32m   7156\u001b[0m   _, _, _op, _outputs = _op_def_library._apply_op_helper(\n\u001b[1;32m-> 7157\u001b[1;33m         \"Range\", start=start, limit=limit, delta=delta, name=name)\n\u001b[0m\u001b[0;32m   7158\u001b[0m   \u001b[0m_result\u001b[0m \u001b[1;33m=\u001b[0m \u001b[0m_outputs\u001b[0m\u001b[1;33m[\u001b[0m\u001b[1;33m:\u001b[0m\u001b[1;33m]\u001b[0m\u001b[1;33m\u001b[0m\u001b[1;33m\u001b[0m\u001b[0m\n\u001b[0;32m   7159\u001b[0m   \u001b[1;32mif\u001b[0m \u001b[0m_execute\u001b[0m\u001b[1;33m.\u001b[0m\u001b[0mmust_record_gradient\u001b[0m\u001b[1;33m(\u001b[0m\u001b[1;33m)\u001b[0m\u001b[1;33m:\u001b[0m\u001b[1;33m\u001b[0m\u001b[1;33m\u001b[0m\u001b[0m\n",
      "\u001b[1;32m~\\anaconda3\\lib\\site-packages\\tensorflow_core\\python\\framework\\op_def_library.py\u001b[0m in \u001b[0;36m_apply_op_helper\u001b[1;34m(op_type_name, name, **keywords)\u001b[0m\n\u001b[0;32m    740\u001b[0m       op = g._create_op_internal(op_type_name, inputs, dtypes=None,\n\u001b[0;32m    741\u001b[0m                                  \u001b[0mname\u001b[0m\u001b[1;33m=\u001b[0m\u001b[0mscope\u001b[0m\u001b[1;33m,\u001b[0m \u001b[0minput_types\u001b[0m\u001b[1;33m=\u001b[0m\u001b[0minput_types\u001b[0m\u001b[1;33m,\u001b[0m\u001b[1;33m\u001b[0m\u001b[1;33m\u001b[0m\u001b[0m\n\u001b[1;32m--> 742\u001b[1;33m                                  attrs=attr_protos, op_def=op_def)\n\u001b[0m\u001b[0;32m    743\u001b[0m \u001b[1;33m\u001b[0m\u001b[0m\n\u001b[0;32m    744\u001b[0m     \u001b[1;31m# `outputs` is returned as a separate return value so that the output\u001b[0m\u001b[1;33m\u001b[0m\u001b[1;33m\u001b[0m\u001b[1;33m\u001b[0m\u001b[0m\n",
      "\u001b[1;32m~\\anaconda3\\lib\\site-packages\\tensorflow_core\\python\\framework\\func_graph.py\u001b[0m in \u001b[0;36m_create_op_internal\u001b[1;34m(self, op_type, inputs, dtypes, input_types, name, attrs, op_def, compute_device)\u001b[0m\n\u001b[0;32m    593\u001b[0m     return super(FuncGraph, self)._create_op_internal(  # pylint: disable=protected-access\n\u001b[0;32m    594\u001b[0m         \u001b[0mop_type\u001b[0m\u001b[1;33m,\u001b[0m \u001b[0minputs\u001b[0m\u001b[1;33m,\u001b[0m \u001b[0mdtypes\u001b[0m\u001b[1;33m,\u001b[0m \u001b[0minput_types\u001b[0m\u001b[1;33m,\u001b[0m \u001b[0mname\u001b[0m\u001b[1;33m,\u001b[0m \u001b[0mattrs\u001b[0m\u001b[1;33m,\u001b[0m \u001b[0mop_def\u001b[0m\u001b[1;33m,\u001b[0m\u001b[1;33m\u001b[0m\u001b[1;33m\u001b[0m\u001b[0m\n\u001b[1;32m--> 595\u001b[1;33m         compute_device)\n\u001b[0m\u001b[0;32m    596\u001b[0m \u001b[1;33m\u001b[0m\u001b[0m\n\u001b[0;32m    597\u001b[0m   \u001b[1;32mdef\u001b[0m \u001b[0mcapture\u001b[0m\u001b[1;33m(\u001b[0m\u001b[0mself\u001b[0m\u001b[1;33m,\u001b[0m \u001b[0mtensor\u001b[0m\u001b[1;33m,\u001b[0m \u001b[0mname\u001b[0m\u001b[1;33m=\u001b[0m\u001b[1;32mNone\u001b[0m\u001b[1;33m,\u001b[0m \u001b[0mshape\u001b[0m\u001b[1;33m=\u001b[0m\u001b[1;32mNone\u001b[0m\u001b[1;33m)\u001b[0m\u001b[1;33m:\u001b[0m\u001b[1;33m\u001b[0m\u001b[1;33m\u001b[0m\u001b[0m\n",
      "\u001b[1;32m~\\anaconda3\\lib\\site-packages\\tensorflow_core\\python\\framework\\ops.py\u001b[0m in \u001b[0;36m_create_op_internal\u001b[1;34m(self, op_type, inputs, dtypes, input_types, name, attrs, op_def, compute_device)\u001b[0m\n\u001b[0;32m   3320\u001b[0m           \u001b[0minput_types\u001b[0m\u001b[1;33m=\u001b[0m\u001b[0minput_types\u001b[0m\u001b[1;33m,\u001b[0m\u001b[1;33m\u001b[0m\u001b[1;33m\u001b[0m\u001b[0m\n\u001b[0;32m   3321\u001b[0m           \u001b[0moriginal_op\u001b[0m\u001b[1;33m=\u001b[0m\u001b[0mself\u001b[0m\u001b[1;33m.\u001b[0m\u001b[0m_default_original_op\u001b[0m\u001b[1;33m,\u001b[0m\u001b[1;33m\u001b[0m\u001b[1;33m\u001b[0m\u001b[0m\n\u001b[1;32m-> 3322\u001b[1;33m           op_def=op_def)\n\u001b[0m\u001b[0;32m   3323\u001b[0m       \u001b[0mself\u001b[0m\u001b[1;33m.\u001b[0m\u001b[0m_create_op_helper\u001b[0m\u001b[1;33m(\u001b[0m\u001b[0mret\u001b[0m\u001b[1;33m,\u001b[0m \u001b[0mcompute_device\u001b[0m\u001b[1;33m=\u001b[0m\u001b[0mcompute_device\u001b[0m\u001b[1;33m)\u001b[0m\u001b[1;33m\u001b[0m\u001b[1;33m\u001b[0m\u001b[0m\n\u001b[0;32m   3324\u001b[0m     \u001b[1;32mreturn\u001b[0m \u001b[0mret\u001b[0m\u001b[1;33m\u001b[0m\u001b[1;33m\u001b[0m\u001b[0m\n",
      "\u001b[1;32m~\\anaconda3\\lib\\site-packages\\tensorflow_core\\python\\framework\\ops.py\u001b[0m in \u001b[0;36m__init__\u001b[1;34m(self, node_def, g, inputs, output_types, control_inputs, input_types, original_op, op_def)\u001b[0m\n\u001b[0;32m   1784\u001b[0m           op_def, inputs, node_def.attr)\n\u001b[0;32m   1785\u001b[0m       self._c_op = _create_c_op(self._graph, node_def, grouped_inputs,\n\u001b[1;32m-> 1786\u001b[1;33m                                 control_input_ops)\n\u001b[0m\u001b[0;32m   1787\u001b[0m       \u001b[0mname\u001b[0m \u001b[1;33m=\u001b[0m \u001b[0mcompat\u001b[0m\u001b[1;33m.\u001b[0m\u001b[0mas_str\u001b[0m\u001b[1;33m(\u001b[0m\u001b[0mnode_def\u001b[0m\u001b[1;33m.\u001b[0m\u001b[0mname\u001b[0m\u001b[1;33m)\u001b[0m\u001b[1;33m\u001b[0m\u001b[1;33m\u001b[0m\u001b[0m\n\u001b[0;32m   1788\u001b[0m     \u001b[1;31m# pylint: enable=protected-access\u001b[0m\u001b[1;33m\u001b[0m\u001b[1;33m\u001b[0m\u001b[1;33m\u001b[0m\u001b[0m\n",
      "\u001b[1;32m~\\anaconda3\\lib\\site-packages\\tensorflow_core\\python\\framework\\ops.py\u001b[0m in \u001b[0;36m_create_c_op\u001b[1;34m(graph, node_def, inputs, control_inputs)\u001b[0m\n\u001b[0;32m   1602\u001b[0m       \u001b[0mc_api\u001b[0m\u001b[1;33m.\u001b[0m\u001b[0mTF_AddInputList\u001b[0m\u001b[1;33m(\u001b[0m\u001b[0mop_desc\u001b[0m\u001b[1;33m,\u001b[0m \u001b[1;33m[\u001b[0m\u001b[0mt\u001b[0m\u001b[1;33m.\u001b[0m\u001b[0m_as_tf_output\u001b[0m\u001b[1;33m(\u001b[0m\u001b[1;33m)\u001b[0m \u001b[1;32mfor\u001b[0m \u001b[0mt\u001b[0m \u001b[1;32min\u001b[0m \u001b[0mop_input\u001b[0m\u001b[1;33m]\u001b[0m\u001b[1;33m)\u001b[0m\u001b[1;33m\u001b[0m\u001b[1;33m\u001b[0m\u001b[0m\n\u001b[0;32m   1603\u001b[0m     \u001b[1;32melse\u001b[0m\u001b[1;33m:\u001b[0m\u001b[1;33m\u001b[0m\u001b[1;33m\u001b[0m\u001b[0m\n\u001b[1;32m-> 1604\u001b[1;33m       \u001b[0mc_api\u001b[0m\u001b[1;33m.\u001b[0m\u001b[0mTF_AddInput\u001b[0m\u001b[1;33m(\u001b[0m\u001b[0mop_desc\u001b[0m\u001b[1;33m,\u001b[0m \u001b[0mop_input\u001b[0m\u001b[1;33m.\u001b[0m\u001b[0m_as_tf_output\u001b[0m\u001b[1;33m(\u001b[0m\u001b[1;33m)\u001b[0m\u001b[1;33m)\u001b[0m\u001b[1;33m\u001b[0m\u001b[1;33m\u001b[0m\u001b[0m\n\u001b[0m\u001b[0;32m   1605\u001b[0m \u001b[1;33m\u001b[0m\u001b[0m\n\u001b[0;32m   1606\u001b[0m   \u001b[1;31m# Add control inputs\u001b[0m\u001b[1;33m\u001b[0m\u001b[1;33m\u001b[0m\u001b[1;33m\u001b[0m\u001b[0m\n",
      "\u001b[1;31mKeyboardInterrupt\u001b[0m: "
     ]
    }
   ],
   "source": [
    "i = 0\n",
    "\n",
    "g_sort = []\n",
    "for date in date_list:\n",
    "    i+=1\n",
    "    print(i/len(date_list))\n",
    "    \n",
    "    # import Dataset\n",
    "    # pull random draws\n",
    "    conn = psycopg2.connect(\"dbname=Kelly_2017_2020 user=postgres password=fussball1\")\n",
    "    cur = conn.cursor()\n",
    "\n",
    "    cur.execute(\"SELECT * FROM data WHERE eom = '\"+str(date)+\"';\")\n",
    "    train_batch = cur.fetchall()\n",
    "    print(\"got data\")\n",
    "\n",
    "    cur.close()\n",
    "    conn.close()\n",
    "\n",
    "    train_batch = pd.DataFrame(train_batch, columns = pd.DataFrame(column_names)[0])\n",
    "    \n",
    "    \n",
    "    #preprocess\n",
    "    train_batch.replace(\"EMPTY\", np.nan, inplace = True)\n",
    "    \n",
    "    \n",
    "    #train_batch = train_batch[keep_variables_list]\n",
    "\n",
    "    # lösche Zeile mit mehr als x% leer: 0.1 _> behalte 40%\n",
    "    #drop_indexes_nan = train_batch.index[(train_batch.isna().mean(axis=1)>0.1)]\n",
    "    #train_batch.drop(drop_indexes_nan, inplace = True)\n",
    "\n",
    "    # short selection\n",
    "    train_batch = pd.DataFrame(train_batch[keep_variables_list])\n",
    "    train_batch = train_batch[False == train_batch[\"ret_exc_lead1m\"].isnull()]\n",
    "    train_batch=train_batch.fillna(train_batch.median())\n",
    "    # shuffle!\n",
    "    train_batch=train_batch.sample(frac=1)\n",
    "    \n",
    "    \n",
    "    \n",
    "    # drop outliers in Y\n",
    "    quantile_0999=train_batch[[\"ret_exc_lead1m\"]].astype(float).quantile(0.999)[0]\n",
    "    drop_indexes = train_batch.index[(train_batch[[\"ret_exc_lead1m\"]].astype(float)>quantile_0999)[\"ret_exc_lead1m\"]]\n",
    "    train_batch.drop(drop_indexes, inplace = True)\n",
    "\n",
    "    \n",
    "\n",
    "\n",
    "    # not in loop, only once! define delete_cols after text conversion\n",
    "    #used once only\n",
    "    #train_batch.loc[:,train_batch.isna().sum()>train_batch.isna().sum().quantile(0.1)].columns.values\n",
    "\n",
    "    \n",
    "    #np.savetxt(\"Networks\\delete_cols.csv\", delete_cols, delimiter=\",\")\n",
    "    # join macro\n",
    "    #train_batch = pd.merge(train_batch,macro_data, on =\"eom\")\n",
    "    train_batch.drop(columns=[\"eom\"], inplace = True)\n",
    "    X_train_batch = train_batch.drop(columns=['ret_exc_lead1m'])\n",
    "    X_train_batch=X_train_batch.astype(float)\n",
    "    for col in X_train_batch.columns.values:\n",
    "        #X_train_batch[col].update(X_train_batch[col].rank(pct=True))\n",
    "        X_train_batch[col].update(pd.qcut(X_train_batch[col].rank(pct=True, method = 'first'), 50).rank(pct=True))\n",
    "        \n",
    "    # choose fillna or drop na\n",
    "    X_train_batch.fillna(X_train_batch.median(), inplace=True)\n",
    "    #X_train_batch=X_train_batch.loc[False==train_batch.isna().any(axis=1),:]\n",
    "   \n",
    "    \n",
    "    # transform back to DF to make fillna possible\n",
    "    X_train_batch=pd.DataFrame(X_train_batch)\n",
    "    \n",
    "    # choose fillna or drop na\n",
    "    Y_train_batch = train_batch['ret_exc_lead1m'].astype(float)\n",
    "    Y_train_batch.update(((Y_train_batch>0.0065)*1))\n",
    "    #Y_train_batch.update(pd.qcut(Y_train_batch.rank(pct=True, method = 'first'), 50).rank(pct=True))\n",
    "    #Y_train_batch = Y_train_batch.loc[False==train_batch.isna().any(axis=1)]\n",
    "    \n",
    "    train_batch = None\n",
    "    \n",
    "    # optimizer\n",
    "    batch_size = 120\n",
    "    num_epochs = 100\n",
    "    opt=Adam(learning_rate = 0.01)\n",
    "    # turn on discriminator\n",
    "#     network.layers[1].trainable = True\n",
    "#     network.layers[2].trainable = True\n",
    "#     network.layers[3].trainable = True\n",
    "#     network.layers[5].trainable = True\n",
    "#     network.layers[7].trainable = True\n",
    "\n",
    "#     # turn of adverse\n",
    "#     network.layers[4].trainable = False\n",
    "#     network.layers[6].trainable = False\n",
    "\n",
    "    network.compile(optimizer=opt,\\\n",
    "                       loss=\"binary_crossentropy\")\n",
    "    history=network.fit(X_train_batch, Y_train_batch, \\\n",
    "                        epochs=num_epochs, batch_size=batch_size, validation_data=(X_val_batch, Y_val_batch))\n",
    "    plt.plot(history.history[\"loss\"], marker = \".\",linestyle='None', color = \"b\")\n",
    "    plt.plot(history.history[\"val_loss\"], marker = \".\",linestyle='None', color =\"r\")\n",
    "    plt.ylim(0,0.0025)\n",
    "    plt.show()\n",
    "    decrease_loss = np.array(history.history[\"loss\"][-20:]).mean()/np.array(history.history[\"loss\"][:20]).mean()\n",
    "    decrease_loss_val = np.array(history.history[\"val_loss\"][-20:]).mean()/np.array(history.history[\"val_loss\"][:20]).mean()\n",
    "    print(decrease_loss, decrease_loss_val)\n",
    "    \n",
    "#     w=network.predict(X_train_batch)\n",
    "#     plt.hist(w[:,1])\n",
    "#     w=network.predict(X_val_batch)\n",
    "#     plt.hist(w[:,1])\n",
    "#     plt.show()\n",
    "    \n",
    "#     # Adversarial\n",
    "#     num_epochs = 100\n",
    "#     # turn of discriminator\n",
    "#     network.layers[1].trainable = False\n",
    "#     network.layers[2].trainable = False\n",
    "#     network.layers[3].trainable = False\n",
    "#     network.layers[5].trainable = False\n",
    "#     network.layers[7].trainable = False\n",
    "\n",
    "#     # turn on adverse\n",
    "#     network.layers[4].trainable = True\n",
    "#     network.layers[6].trainable = True\n",
    "\n",
    "#     network.compile(optimizer=opt,\\\n",
    "#                        loss=custom_loss_adverse)\n",
    "#     history=network.fit(X_train_batch, Y_train_batch, epochs=num_epochs, batch_size=batch_size)\n",
    "#     plt.plot(history.history[\"loss\"], marker = \"x\",linestyle='None')\n",
    "#     plt.show()\n",
    "#     decrease_loss = np.array(history.history[\"loss\"][-20:]).mean()/np.array(history.history[\"loss\"][:20]).mean()\n",
    "#     print(decrease_loss)\n",
    "    \n",
    "#     w=network.predict(X_train_batch)\n",
    "#     plt.hist(w[:,1])\n",
    "#     w=network.predict(X_val_batch)\n",
    "#     plt.hist(w[:,1])\n",
    "#     plt.show()\n",
    "    \n",
    "#     w=network.predict(X_train_batch)\n",
    "#     low = X_train_batch.iloc[w[:,1]<np.quantile(w[:,1], 0.2)].describe().iloc[[1]]\n",
    "#     high= X_train_batch.iloc[w[:,1]>np.quantile(w[:,1], 0.8)].describe().iloc[[1]]\n",
    "#     g_sort.append((high/low).iloc[0].sort_values())\n",
    "\n",
    "\n",
    "    \n",
    "    \n",
    "    # optimizer again\n",
    "    num_epochs = 100\n",
    "    # turn on discriminator\n",
    "#     network.layers[1].trainable = True\n",
    "#     network.layers[2].trainable = True\n",
    "#     network.layers[3].trainable = True\n",
    "#     network.layers[5].trainable = True\n",
    "#     network.layers[7].trainable = True\n",
    "\n",
    "#     # turn of adverse\n",
    "#     network.layers[4].trainable = False\n",
    "#     network.layers[6].trainable = False\n",
    "\n",
    "    network.compile(optimizer=opt,\\\n",
    "                       loss=\"binary_crossentropy\")\n",
    "    history=network.fit(X_train_batch, Y_train_batch, \\\n",
    "                        epochs=num_epochs, batch_size=batch_size,\\\n",
    "                        validation_data=(X_val_batch, Y_val_batch))\n",
    "            \n",
    "    plt.plot(history.history[\"loss\"], marker = \".\",linestyle='None')\n",
    "    plt.plot(history.history[\"val_loss\"], marker = \".\",linestyle='None', color =\"r\")\n",
    "    plt.ylim(0,1)\n",
    "    plt.show()\n",
    "    decrease_loss = np.array(history.history[\"loss\"][-20:]).mean()/np.array(history.history[\"loss\"][:20]).mean()\n",
    "    decrease_loss_val = np.array(history.history[\"val_loss\"][-20:]).mean()/np.array(history.history[\"val_loss\"][:20]).mean()\n",
    "    print(decrease_loss, decrease_loss_val)\n",
    "\n",
    "    X_train_batch = None\n",
    "    Y_train_batch = None"
   ]
  },
  {
   "cell_type": "code",
   "execution_count": 33,
   "metadata": {},
   "outputs": [
    {
     "data": {
      "text/plain": [
       "15447"
      ]
     },
     "execution_count": 33,
     "metadata": {},
     "output_type": "execute_result"
    }
   ],
   "source": [
    "len(Y_train_batch.unique())"
   ]
  },
  {
   "cell_type": "code",
   "execution_count": 213,
   "metadata": {},
   "outputs": [
    {
     "data": {
      "text/plain": [
       "(array([1595., 1594., 1594., 1594., 1594., 1594., 1594., 1594., 1594.,\n",
       "        1595.]),\n",
       " array([6.27273868e-05, 1.00056455e-01, 2.00050182e-01, 3.00043909e-01,\n",
       "        4.00037636e-01, 5.00031364e-01, 6.00025091e-01, 7.00018818e-01,\n",
       "        8.00012545e-01, 9.00006273e-01, 1.00000000e+00]),\n",
       " <a list of 10 Patch objects>)"
      ]
     },
     "execution_count": 213,
     "metadata": {},
     "output_type": "execute_result"
    },
    {
     "data": {
      "image/png": "[encoded data removed]",
      "text/plain": [
       "<Figure size 432x288 with 1 Axes>"
      ]
     },
     "metadata": {
      "needs_background": "light"
     },
     "output_type": "display_data"
    }
   ],
   "source": [
    "plt.hist(X_train_batch[col].rank(pct=True, method = 'first'))"
   ]
  },
  {
   "cell_type": "code",
   "execution_count": 178,
   "metadata": {},
   "outputs": [
    {
     "data": {
      "text/plain": [
       "[(0.3, 0.4], (-0.0009373000000000001, 0.1], (0.6, 0.7], (0.2, 0.3], (0.8, 0.9], (0.1, 0.2], (0.7, 0.8], (0.9, 1.0], (0.4, 0.5], (0.5, 0.6]]\n",
       "Categories (10, interval[float64]): [(-0.0009373000000000001, 0.1] < (0.1, 0.2] < (0.2, 0.3] < (0.3, 0.4] ... (0.6, 0.7] < (0.7, 0.8] < (0.8, 0.9] < (0.9, 1.0]]"
      ]
     },
     "execution_count": 178,
     "metadata": {},
     "output_type": "execute_result"
    }
   ],
   "source": [
    "pd.qcut(X_train_batch[col].rank(pct=True, method='first'), 10).unique()"
   ]
  },
  {
   "cell_type": "code",
   "execution_count": 132,
   "metadata": {
    "scrolled": true
   },
   "outputs": [
    {
     "data": {
      "text/plain": [
       "7057     0.625016\n",
       "4562     0.924978\n",
       "8235     0.774997\n",
       "19728    0.824991\n",
       "8991     0.625016\n",
       "           ...   \n",
       "4680     0.475662\n",
       "21227    0.025060\n",
       "18765    0.575022\n",
       "5927     0.625016\n",
       "19356    0.475662\n",
       "Name: me, Length: 15942, dtype: float64"
      ]
     },
     "execution_count": 132,
     "metadata": {},
     "output_type": "execute_result"
    }
   ],
   "source": [
    "X_train_batch[\"me\"]"
   ]
  },
  {
   "cell_type": "code",
   "execution_count": 36,
   "metadata": {},
   "outputs": [
    {
     "data": {
      "text/plain": [
       "6044     0.025753\n",
       "11547   -0.045506\n",
       "4149     0.037977\n",
       "17803    0.017335\n",
       "2854    -0.032908\n",
       "           ...   \n",
       "6196     0.004506\n",
       "21670    0.150295\n",
       "3790    -0.056816\n",
       "11265   -0.026338\n",
       "22222    0.000619\n",
       "Name: ret_exc_lead1m, Length: 6350, dtype: float64"
      ]
     },
     "execution_count": 36,
     "metadata": {},
     "output_type": "execute_result"
    }
   ],
   "source": [
    "Y_train_batch."
   ]
  },
  {
   "cell_type": "code",
   "execution_count": 321,
   "metadata": {},
   "outputs": [],
   "source": [
    "network.save('Networks\\prototype_09_weight_adj_datesort.h5')"
   ]
  },
  {
   "cell_type": "code",
   "execution_count": 245,
   "metadata": {},
   "outputs": [
    {
     "data": {
      "text/html": [
       "<div>\n",
       "<style scoped>\n",
       "    .dataframe tbody tr th:only-of-type {\n",
       "        vertical-align: middle;\n",
       "    }\n",
       "\n",
       "    .dataframe tbody tr th {\n",
       "        vertical-align: top;\n",
       "    }\n",
       "\n",
       "    .dataframe thead th {\n",
       "        text-align: right;\n",
       "    }\n",
       "</style>\n",
       "<table border=\"1\" class=\"dataframe\">\n",
       "  <thead>\n",
       "    <tr style=\"text-align: right;\">\n",
       "      <th></th>\n",
       "    </tr>\n",
       "  </thead>\n",
       "  <tbody>\n",
       "  </tbody>\n",
       "</table>\n",
       "</div>"
      ],
      "text/plain": [
       "Empty DataFrame\n",
       "Columns: []\n",
       "Index: []"
      ]
     },
     "execution_count": 245,
     "metadata": {},
     "output_type": "execute_result"
    }
   ],
   "source": [
    "pd.DataFrame(g_sort)"
   ]
  },
  {
   "cell_type": "code",
   "execution_count": null,
   "metadata": {},
   "outputs": [],
   "source": []
  },
  {
   "cell_type": "code",
   "execution_count": 322,
   "metadata": {},
   "outputs": [
    {
     "data": {
      "image/png": "[encoded data removed]",
      "text/plain": [
       "<Figure size 2160x864 with 1 Axes>"
      ]
     },
     "metadata": {
      "needs_background": "light"
     },
     "output_type": "display_data"
    }
   ],
   "source": [
    "plt.figure(figsize=(30,12))\n",
    "for i in range (pd.DataFrame(g_sort).shape[0]):\n",
    "    plt.plot(pd.DataFrame(g_sort).iloc[i], linestyle='None', marker = 'o')"
   ]
  },
  {
   "cell_type": "code",
   "execution_count": 192,
   "metadata": {},
   "outputs": [
    {
     "data": {
      "image/png": "[encoded data removed]",
      "text/plain": [
       "<Figure size 432x288 with 1 Axes>"
      ]
     },
     "metadata": {
      "needs_background": "light"
     },
     "output_type": "display_data"
    }
   ],
   "source": [
    "for i in g_sort:\n",
    "    plt.plot(i, marker = \".\", linestyle=None)"
   ]
  },
  {
   "cell_type": "code",
   "execution_count": 155,
   "metadata": {
    "scrolled": false
   },
   "outputs": [
    {
     "data": {
      "text/plain": [
       "[<matplotlib.lines.Line2D at 0x21263ab54c8>]"
      ]
     },
     "execution_count": 155,
     "metadata": {},
     "output_type": "execute_result"
    },
    {
     "data": {
      "image/png": "[encoded data removed]",
      "text/plain": [
       "<Figure size 432x288 with 1 Axes>"
      ]
     },
     "metadata": {
      "needs_background": "light"
     },
     "output_type": "display_data"
    }
   ],
   "source": [
    "plt.plot(g_sort[0])"
   ]
  },
  {
   "cell_type": "code",
   "execution_count": 40,
   "metadata": {},
   "outputs": [
    {
     "data": {
      "text/plain": [
       "<matplotlib.collections.PathCollection at 0x1bb3cf37cc8>"
      ]
     },
     "execution_count": 40,
     "metadata": {},
     "output_type": "execute_result"
    },
    {
     "data": {
      "image/png": "[encoded data removed]",
      "text/plain": [
       "<Figure size 432x288 with 1 Axes>"
      ]
     },
     "metadata": {
      "needs_background": "light"
     },
     "output_type": "display_data"
    }
   ],
   "source": [
    "plt.scatter(y_pred, Y_val_batch)"
   ]
  },
  {
   "cell_type": "code",
   "execution_count": 43,
   "metadata": {},
   "outputs": [
    {
     "data": {
      "text/plain": [
       "0    0.0\n",
       "dtype: float32"
      ]
     },
     "execution_count": 43,
     "metadata": {},
     "output_type": "execute_result"
    }
   ],
   "source": [
    "pd.DataFrame(y_pred).max()"
   ]
  },
  {
   "cell_type": "code",
   "execution_count": 45,
   "metadata": {},
   "outputs": [
    {
     "data": {
      "text/plain": [
       "array([[0.5836641],\n",
       "       [0.5836641],\n",
       "       [0.5836641],\n",
       "       ...,\n",
       "       [0.5836641],\n",
       "       [0.5836641],\n",
       "       [0.5836641]], dtype=float32)"
      ]
     },
     "execution_count": 45,
     "metadata": {},
     "output_type": "execute_result"
    }
   ],
   "source": [
    "y_pred"
   ]
  },
  {
   "cell_type": "code",
   "execution_count": 44,
   "metadata": {},
   "outputs": [],
   "source": [
    "y_pred=network.predict(X_val_batch)"
   ]
  },
  {
   "cell_type": "code",
   "execution_count": 217,
   "metadata": {},
   "outputs": [
    {
     "data": {
      "text/plain": [
       "0.015995379602322057"
      ]
     },
     "execution_count": 217,
     "metadata": {},
     "output_type": "execute_result"
    }
   ],
   "source": [
    "Y_val_batch.mean()"
   ]
  },
  {
   "cell_type": "code",
   "execution_count": 29,
   "metadata": {},
   "outputs": [
    {
     "data": {
      "text/plain": [
       "array([[0.51472867],\n",
       "       [0.51472867],\n",
       "       [0.51472867],\n",
       "       ...,\n",
       "       [0.51472867],\n",
       "       [0.51472867],\n",
       "       [0.51472867]], dtype=float32)"
      ]
     },
     "execution_count": 29,
     "metadata": {},
     "output_type": "execute_result"
    }
   ],
   "source": [
    "y_pred"
   ]
  },
  {
   "cell_type": "code",
   "execution_count": 80,
   "metadata": {},
   "outputs": [
    {
     "data": {
      "text/plain": [
       "(array([1.700e+01, 3.000e+01, 1.530e+02, 9.611e+03, 5.848e+03, 2.040e+02,\n",
       "        4.200e+01, 1.500e+01, 1.000e+01, 9.000e+00]),\n",
       " array([-1.00046994, -0.74560769, -0.49074543, -0.23588318,  0.01897907,\n",
       "         0.27384133,  0.52870358,  0.78356583,  1.03842809,  1.29329034,\n",
       "         1.54815259]),\n",
       " <a list of 10 Patch objects>)"
      ]
     },
     "execution_count": 80,
     "metadata": {},
     "output_type": "execute_result"
    },
    {
     "data": {
      "image/png": "[encoded data removed]",
      "text/plain": [
       "<Figure size 432x288 with 1 Axes>"
      ]
     },
     "metadata": {
      "needs_background": "light"
     },
     "output_type": "display_data"
    }
   ],
   "source": [
    "plt.hist(Y_val_batch[\"ret_exc_lead1m\"])"
   ]
  },
  {
   "cell_type": "code",
   "execution_count": 215,
   "metadata": {},
   "outputs": [
    {
     "data": {
      "text/plain": [
       "(array([  20.,  181.,  654., 1519., 2421., 3525., 4082., 3029.,  491.,\n",
       "          17.]),\n",
       " array([ 1.75494259,  2.62345338,  3.49196416,  4.36047495,  5.22898573,\n",
       "         6.09749652,  6.9660073 ,  7.83451808,  8.70302887,  9.57153965,\n",
       "        10.44005044]),\n",
       " <a list of 10 Patch objects>)"
      ]
     },
     "execution_count": 215,
     "metadata": {},
     "output_type": "execute_result"
    },
    {
     "data": {
      "image/png": "[encoded data removed]",
      "text/plain": [
       "<Figure size 432x288 with 1 Axes>"
      ]
     },
     "metadata": {
      "needs_background": "light"
     },
     "output_type": "display_data"
    }
   ],
   "source": [
    "plt.hist((y_pred*X_val_batch).sum(axis=1))"
   ]
  },
  {
   "cell_type": "code",
   "execution_count": 214,
   "metadata": {},
   "outputs": [
    {
     "data": {
      "text/plain": [
       "1.0"
      ]
     },
     "execution_count": 214,
     "metadata": {},
     "output_type": "execute_result"
    }
   ],
   "source": [
    "y_pred=network.predict(X_val_batch)\n",
    "y_pred[:,0].min()/y_pred[:,0].max()"
   ]
  },
  {
   "cell_type": "code",
   "execution_count": 324,
   "metadata": {},
   "outputs": [
    {
     "data": {
      "text/plain": [
       "0.2820917225264813"
      ]
     },
     "execution_count": 324,
     "metadata": {},
     "output_type": "execute_result"
    }
   ],
   "source": [
    "# 1-w*R is the SDF\n",
    "(1-sum(y_pred[:,0]*Y_val_batch))"
   ]
  },
  {
   "cell_type": "code",
   "execution_count": 325,
   "metadata": {},
   "outputs": [
    {
     "data": {
      "text/plain": [
       "0.0045121641844844285"
      ]
     },
     "execution_count": 325,
     "metadata": {},
     "output_type": "execute_result"
    }
   ],
   "source": [
    "# Loss1 on val\n",
    "# M * R\n",
    "# (1-w *R) * R \n",
    "w=network.predict(X_val_batch)\n",
    "np.mean(((1-sum(w[:,0]*Y_val_batch)))*Y_val_batch)"
   ]
  },
  {
   "cell_type": "code",
   "execution_count": 326,
   "metadata": {},
   "outputs": [
    {
     "data": {
      "text/plain": [
       "0.0006505739464330899"
      ]
     },
     "execution_count": 326,
     "metadata": {},
     "output_type": "execute_result"
    }
   ],
   "source": [
    "# Loss1\n",
    "# M * R\n",
    "# (1-w *R) * R \n",
    "w=network.predict(X_train_batch)\n",
    "np.mean(((1-sum(w[:,0]*Y_train_batch)))*Y_train_batch)"
   ]
  },
  {
   "cell_type": "code",
   "execution_count": 327,
   "metadata": {},
   "outputs": [
    {
     "data": {
      "text/plain": [
       "(6281,)"
      ]
     },
     "execution_count": 327,
     "metadata": {},
     "output_type": "execute_result"
    }
   ],
   "source": [
    "w[:,1].shape"
   ]
  },
  {
   "cell_type": "code",
   "execution_count": 328,
   "metadata": {},
   "outputs": [
    {
     "data": {
      "image/png": "[encoded data removed]",
      "text/plain": [
       "<Figure size 432x288 with 1 Axes>"
      ]
     },
     "metadata": {
      "needs_background": "light"
     },
     "output_type": "display_data"
    }
   ],
   "source": [
    "xx=plt.hist(w[:,1], bins =100)"
   ]
  },
  {
   "cell_type": "code",
   "execution_count": 329,
   "metadata": {},
   "outputs": [
    {
     "data": {
      "image/png": "[encoded data removed]",
      "text/plain": [
       "<Figure size 432x288 with 1 Axes>"
      ]
     },
     "metadata": {
      "needs_background": "light"
     },
     "output_type": "display_data"
    }
   ],
   "source": [
    "ploot=plt.hist(w[:,0], bins = 100)"
   ]
  },
  {
   "cell_type": "code",
   "execution_count": 340,
   "metadata": {},
   "outputs": [
    {
     "data": {
      "text/plain": [
       "0.001991606085866607"
      ]
     },
     "execution_count": 340,
     "metadata": {},
     "output_type": "execute_result"
    }
   ],
   "source": [
    "# Loss2\n",
    "# M * R * G\n",
    "# (1-w *R) * R * G\n",
    "w=network.predict(X_val_batch)\n",
    "np.mean(((1-sum(w[:,0]*Y_val_batch)) )*Y_val_batch*w[:,1])"
   ]
  },
  {
   "cell_type": "code",
   "execution_count": 343,
   "metadata": {},
   "outputs": [
    {
     "data": {
      "text/plain": [
       "6.281"
      ]
     },
     "execution_count": 343,
     "metadata": {},
     "output_type": "execute_result"
    }
   ],
   "source": [
    "len(X_train_batch)/1000"
   ]
  },
  {
   "cell_type": "code",
   "execution_count": 353,
   "metadata": {},
   "outputs": [
    {
     "data": {
      "text/plain": [
       "1.2474293947214217"
      ]
     },
     "execution_count": 353,
     "metadata": {},
     "output_type": "execute_result"
    }
   ],
   "source": [
    "Return_List = []\n",
    "for i in range(0,15):\n",
    "    w=network.predict(X_val_batch.iloc[0+i*1000:1000+i*1000])\n",
    "    Return_List.append(sum(w[:,0]*Y_val_batch.iloc[0+i*1000:1000+i*1000]))\n",
    "(np.array(Return_List).mean()/np.array(Return_List).std())"
   ]
  },
  {
   "cell_type": "code",
   "execution_count": 333,
   "metadata": {},
   "outputs": [
    {
     "data": {
      "text/plain": [
       "'20909.0'"
      ]
     },
     "execution_count": 333,
     "metadata": {},
     "output_type": "execute_result"
    }
   ],
   "source": [
    "date"
   ]
  },
  {
   "cell_type": "code",
   "execution_count": 354,
   "metadata": {
    "scrolled": true
   },
   "outputs": [
    {
     "data": {
      "text/plain": [
       "6.151754184902421"
      ]
     },
     "execution_count": 354,
     "metadata": {},
     "output_type": "execute_result"
    }
   ],
   "source": [
    "Return_List = []\n",
    "for i in range(0,6):\n",
    "    w=network.predict(X_train_batch.iloc[0+i*1000:1000+i*1000])\n",
    "    Return_List.append(sum(w[:,0]*Y_train_batch.iloc[0+i*1000:1000+i*1000]))\n",
    "(np.array(Return_List).mean()/np.array(Return_List).std())"
   ]
  },
  {
   "cell_type": "code",
   "execution_count": 345,
   "metadata": {},
   "outputs": [
    {
     "data": {
      "text/plain": [
       "0.0027414196581666537"
      ]
     },
     "execution_count": 345,
     "metadata": {},
     "output_type": "execute_result"
    }
   ],
   "source": [
    "Y_train_batch.mean()"
   ]
  },
  {
   "cell_type": "code",
   "execution_count": 350,
   "metadata": {
    "scrolled": true
   },
   "outputs": [
    {
     "data": {
      "text/plain": [
       "15939"
      ]
     },
     "execution_count": 350,
     "metadata": {},
     "output_type": "execute_result"
    }
   ],
   "source": [
    "len(Y_val_batch)"
   ]
  },
  {
   "cell_type": "code",
   "execution_count": 355,
   "metadata": {},
   "outputs": [
    {
     "data": {
      "text/plain": [
       "0.11850503947761944"
      ]
     },
     "execution_count": 355,
     "metadata": {},
     "output_type": "execute_result"
    }
   ],
   "source": [
    "Return_List_BH = []\n",
    "for i in range(0,15):\n",
    "    Return_List_BH.append(Y_val_batch.iloc[0+i*1000:1000+i*1000])\n",
    "\n",
    "np.array(Return_List_BH)[0].mean()/np.array(Return_List_BH)[0].std()"
   ]
  },
  {
   "cell_type": "code",
   "execution_count": 356,
   "metadata": {},
   "outputs": [
    {
     "data": {
      "text/plain": [
       "0.02404803143678757"
      ]
     },
     "execution_count": 356,
     "metadata": {},
     "output_type": "execute_result"
    }
   ],
   "source": [
    "Return_List_BH = []\n",
    "for i in range(0,6):\n",
    "    Return_List_BH.append(Y_train_batch.iloc[0+i*1000:1000+i*1000])\n",
    "\n",
    "np.array(Return_List_BH)[0].mean()/np.array(Return_List_BH)[0].std()"
   ]
  },
  {
   "cell_type": "code",
   "execution_count": 283,
   "metadata": {},
   "outputs": [
    {
     "data": {
      "text/plain": [
       "0.20207259421636903"
      ]
     },
     "execution_count": 283,
     "metadata": {},
     "output_type": "execute_result"
    }
   ],
   "source": [
    "# MSCI monthly sharpe\n",
    "0.7/np.sqrt(12)"
   ]
  },
  {
   "cell_type": "code",
   "execution_count": null,
   "metadata": {},
   "outputs": [],
   "source": [
    "Y_val_batch.mean()/Y_val_batch.std()"
   ]
  },
  {
   "cell_type": "code",
   "execution_count": 220,
   "metadata": {},
   "outputs": [
    {
     "ename": "NameError",
     "evalue": "name 'y_features_set' is not defined",
     "output_type": "error",
     "traceback": [
      "\u001b[1;31m---------------------------------------------------------------------------\u001b[0m",
      "\u001b[1;31mNameError\u001b[0m                                 Traceback (most recent call last)",
      "\u001b[1;32m<ipython-input-220-ca53a02e4bc5>\u001b[0m in \u001b[0;36m<module>\u001b[1;34m\u001b[0m\n\u001b[0;32m      1\u001b[0m \u001b[1;31m# /w[:,0].sum() to adjust for weight sum <1 -> ptf of 100%\u001b[0m\u001b[1;33m\u001b[0m\u001b[1;33m\u001b[0m\u001b[1;33m\u001b[0m\u001b[0m\n\u001b[1;32m----> 2\u001b[1;33m \u001b[1;33m(\u001b[0m\u001b[1;33m(\u001b[0m\u001b[0mw\u001b[0m\u001b[1;33m[\u001b[0m\u001b[1;33m:\u001b[0m\u001b[1;33m,\u001b[0m\u001b[1;36m0\u001b[0m\u001b[1;33m]\u001b[0m\u001b[1;33m/\u001b[0m\u001b[0mw\u001b[0m\u001b[1;33m[\u001b[0m\u001b[1;33m:\u001b[0m\u001b[1;33m,\u001b[0m\u001b[1;36m0\u001b[0m\u001b[1;33m]\u001b[0m\u001b[1;33m.\u001b[0m\u001b[0msum\u001b[0m\u001b[1;33m(\u001b[0m\u001b[1;33m)\u001b[0m\u001b[1;33m)\u001b[0m\u001b[1;33m*\u001b[0m\u001b[0my_features_set\u001b[0m\u001b[1;33m)\u001b[0m\u001b[1;33m.\u001b[0m\u001b[0msum\u001b[0m\u001b[1;33m(\u001b[0m\u001b[1;33m)\u001b[0m\u001b[1;33m\u001b[0m\u001b[1;33m\u001b[0m\u001b[0m\n\u001b[0m\u001b[0;32m      3\u001b[0m \u001b[1;33m\u001b[0m\u001b[0m\n\u001b[0;32m      4\u001b[0m \u001b[1;31m# annualized\u001b[0m\u001b[1;33m\u001b[0m\u001b[1;33m\u001b[0m\u001b[1;33m\u001b[0m\u001b[0m\n\u001b[0;32m      5\u001b[0m \u001b[1;33m(\u001b[0m\u001b[1;33m(\u001b[0m\u001b[1;33m(\u001b[0m\u001b[0mw\u001b[0m\u001b[1;33m[\u001b[0m\u001b[1;33m:\u001b[0m\u001b[1;33m,\u001b[0m\u001b[1;36m0\u001b[0m\u001b[1;33m]\u001b[0m\u001b[1;33m/\u001b[0m\u001b[0mw\u001b[0m\u001b[1;33m[\u001b[0m\u001b[1;33m:\u001b[0m\u001b[1;33m,\u001b[0m\u001b[1;36m0\u001b[0m\u001b[1;33m]\u001b[0m\u001b[1;33m.\u001b[0m\u001b[0msum\u001b[0m\u001b[1;33m(\u001b[0m\u001b[1;33m)\u001b[0m\u001b[1;33m)\u001b[0m\u001b[1;33m*\u001b[0m\u001b[0my_features_set\u001b[0m\u001b[1;33m)\u001b[0m\u001b[1;33m.\u001b[0m\u001b[0msum\u001b[0m\u001b[1;33m(\u001b[0m\u001b[1;33m)\u001b[0m\u001b[1;33m+\u001b[0m\u001b[1;36m1\u001b[0m\u001b[1;33m)\u001b[0m\u001b[1;33m**\u001b[0m\u001b[1;36m3\u001b[0m\u001b[1;33m-\u001b[0m\u001b[1;36m1\u001b[0m\u001b[1;33m\u001b[0m\u001b[1;33m\u001b[0m\u001b[0m\n",
      "\u001b[1;31mNameError\u001b[0m: name 'y_features_set' is not defined"
     ]
    }
   ],
   "source": [
    "# /w[:,0].sum() to adjust for weight sum <1 -> ptf of 100%\n",
    "((w[:,0]/w[:,0].sum())*y_features_set).sum()\n",
    "\n",
    "# annualized\n",
    "(((w[:,0]/w[:,0].sum())*y_features_set).sum()+1)**3-1"
   ]
  },
  {
   "cell_type": "code",
   "execution_count": null,
   "metadata": {},
   "outputs": [],
   "source": [
    "# return\n",
    "print((w[:,0]*Y_val_batch).sum())\n",
    "\n",
    "# sum of weights\n",
    "print(w[:,0].sum())"
   ]
  },
  {
   "cell_type": "code",
   "execution_count": null,
   "metadata": {},
   "outputs": [],
   "source": [
    "tt=plt.hist(w[:,0], bins = 100, range=(0.0003, 0.0004))"
   ]
  },
  {
   "cell_type": "code",
   "execution_count": null,
   "metadata": {},
   "outputs": [],
   "source": [
    "epochs = range(1, len(acc[0]) + 1)\n",
    "colorlist = ['blue','cyan','purple','pink','orange','red','brown','gray','olive','green']\n",
    "plt.figure(figsize=(12,6))\n",
    "i=0\n",
    "while i <  len(acc):\n",
    "    plt.plot(epochs, acc[i] , 'bo', label='Training acc', color = colorlist[i])\n",
    "    plt.plot(epochs, val_acc[i], 'b', label='Validation acc', color=colorlist[i])\n",
    "    \n",
    "    ax= plt.gca()\n",
    "    ax.tick_params(direction='in')\n",
    "    i+=1\n",
    "#plt.ylim(ymax = 1, ymin = 0.6)\n",
    "plt.title('Training and validation accuracy')"
   ]
  },
  {
   "cell_type": "code",
   "execution_count": null,
   "metadata": {},
   "outputs": [],
   "source": [
    "network.predict(X)[:,0]"
   ]
  },
  {
   "cell_type": "code",
   "execution_count": null,
   "metadata": {
    "scrolled": true
   },
   "outputs": [],
   "source": [
    "weights = network.predict(X)[:,0]\n",
    "g_i = network.predict(X)[:,1]\n",
    "excess_returns = Y\n",
    "(weights * excess_returns).mean()"
   ]
  },
  {
   "cell_type": "code",
   "execution_count": null,
   "metadata": {
    "scrolled": true
   },
   "outputs": [],
   "source": [
    "np.array(network.layers[3].get_weights()[0])[:,0].shape"
   ]
  },
  {
   "cell_type": "code",
   "execution_count": null,
   "metadata": {},
   "outputs": [],
   "source": [
    "plt.plot(network.layers[3].get_weights()[0][:,0])"
   ]
  },
  {
   "cell_type": "code",
   "execution_count": 193,
   "metadata": {},
   "outputs": [],
   "source": [
    "model = load_model('Networks\\prototype_07_pctrnk_tanh_gan_constant.h5', custom_objects={'custom_loss': custom_loss} )"
   ]
  }
 ],
 "metadata": {
  "kernelspec": {
   "display_name": "Python 3",
   "language": "python",
   "name": "python3"
  },
  "language_info": {
   "codemirror_mode": {
    "name": "ipython",
    "version": 3
   },
   "file_extension": ".py",
   "mimetype": "text/x-python",
   "name": "python",
   "nbconvert_exporter": "python",
   "pygments_lexer": "ipython3",
   "version": "3.7.6"
  }
 },
 "nbformat": 4,
 "nbformat_minor": 4
}
