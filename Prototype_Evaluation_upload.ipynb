{
 "cells": [
  {
   "cell_type": "code",
   "execution_count": 1,
   "metadata": {},
   "outputs": [
    {
     "name": "stderr",
     "output_type": "stream",
     "text": [
      "Using TensorFlow backend.\n"
     ]
    }
   ],
   "source": [
    "import pandas as pd\n",
    "import numpy as np\n",
    "from sklearn.model_selection import KFold\n",
    "from keras.optimizers import SGD, Adam, RMSprop, Adamax, Adadelta\n",
    "from keras.models import Model, load_model\n",
    "from keras import Input\n",
    "from keras.layers import Dense, Dropout, Multiply, concatenate, LeakyReLU\n",
    "from matplotlib import pyplot as plt\n",
    "import keras.backend as K\n",
    "from sklearn.preprocessing import StandardScaler\n",
    "from keras.utils.vis_utils import plot_model\n",
    "from keras.callbacks import Callback\n",
    "from sklearn.preprocessing import quantile_transform\n",
    "import psycopg2\n",
    "import missingno as msno"
   ]
  },
  {
   "cell_type": "code",
   "execution_count": 3,
   "metadata": {},
   "outputs": [],
   "source": [
    "def custom_loss(y_true,y_pred):\n",
    "        # M * R * G\n",
    "        # (1-w *R) * R * G\n",
    "        weights = y_pred[:,0]\n",
    "        g_i = y_pred[:,1]\n",
    "        excess_returns = y_true\n",
    "        M = 1-K.sum(weights * excess_returns)\n",
    "        custom_loss_value = K.mean((M * excess_returns * g_i)**2)\n",
    "        return custom_loss_value"
   ]
  },
  {
   "cell_type": "code",
   "execution_count": 128,
   "metadata": {},
   "outputs": [],
   "source": [
    "#reload=load_model('Networks\\prototype.h5')\n",
    "reload = load_model('Networks\\prototype_03.h5', custom_objects={'custom_loss': custom_loss} )\n",
    "Loss=[]\n",
    "Return_List=[]\n",
    "Return_List_weight_adjusted = []\n",
    "Return_List_BH=[]"
   ]
  },
  {
   "cell_type": "code",
   "execution_count": 129,
   "metadata": {},
   "outputs": [
    {
     "name": "stdout",
     "output_type": "stream",
     "text": [
      "got column_names\n",
      "got macro_column_names\n",
      "got macro_data\n"
     ]
    }
   ],
   "source": [
    "# database cols: needed only once\n",
    "\n",
    "conn = psycopg2.connect(\"dbname=Kelly_2017_2020 user=postgres password=password\")\n",
    "cur = conn.cursor()\n",
    "\n",
    "cur.execute(\"SELECT column_name from information_schema.columns WHERE (table_name = 'data');\")\n",
    "column_names = cur.fetchall()\n",
    "print(\"got column_names\")\n",
    "\n",
    "cur.execute(\"SELECT column_name from information_schema.columns WHERE (table_name = 'macro');\")\n",
    "macro_column_names = cur.fetchall()\n",
    "print(\"got macro_column_names\")\n",
    "\n",
    "cur.execute(\"SELECT * From macro;\")\n",
    "macro_data = cur.fetchall()\n",
    "macro_data = pd.DataFrame(macro_data, columns=pd.DataFrame(macro_column_names)[0])\n",
    "\n",
    "print(\"got macro_data\")\n",
    "\n",
    "conn.commit()\n",
    "cur.close()\n",
    "conn.close()"
   ]
  },
  {
   "cell_type": "code",
   "execution_count": 130,
   "metadata": {},
   "outputs": [],
   "source": [
    "date_list = macro_data[\"eom\"]\n",
    "variables=pd.read_excel(\"C:\\\\Users\\\\Vincent\\\\01 Python_Working_Directory\\\\Master\\\\Test\\\\Data\\\\Data Fabio\\\\Output\\\\variables_small.xlsx\",\\\n",
    "                  sheet_name = \"variables\", usecols = \"A:B\")\n",
    "identifiers=variables[(variables[\"TYPE\"]==\"identifier\") | (variables[\"TYPE\"]==\"observation identifier\")]\n",
    "identifiers=list(identifiers[\"VARIABLE\"])\n",
    "identifiers.remove(\"eom\")\n",
    "delete_cols = pd.read_csv(\"Networks\\delete_cols.csv\")"
   ]
  },
  {
   "cell_type": "code",
   "execution_count": 132,
   "metadata": {},
   "outputs": [
    {
     "name": "stdout",
     "output_type": "stream",
     "text": [
      "imported:21945.0\n"
     ]
    },
    {
     "name": "stderr",
     "output_type": "stream",
     "text": [
      "C:\\Users\\Vincent\\anaconda3\\lib\\site-packages\\sklearn\\preprocessing\\_data.py:2670: FutureWarning: The default value of `copy` will change from False to True in 0.23 in order to make it more consistent with the default `copy` values of other functions in :mod:`sklearn.preprocessing` and prevent unexpected side effects by modifying the value of `X` inplace. To avoid inplace modifications of `X`, it is recommended to explicitly set `copy=True`\n",
      "  FutureWarning)\n"
     ]
    },
    {
     "name": "stdout",
     "output_type": "stream",
     "text": [
      "finished preprocessing\n",
      "predicted and saved results\n",
      "imported:21914.0\n"
     ]
    },
    {
     "name": "stderr",
     "output_type": "stream",
     "text": [
      "C:\\Users\\Vincent\\anaconda3\\lib\\site-packages\\sklearn\\preprocessing\\_data.py:2670: FutureWarning: The default value of `copy` will change from False to True in 0.23 in order to make it more consistent with the default `copy` values of other functions in :mod:`sklearn.preprocessing` and prevent unexpected side effects by modifying the value of `X` inplace. To avoid inplace modifications of `X`, it is recommended to explicitly set `copy=True`\n",
      "  FutureWarning)\n"
     ]
    },
    {
     "name": "stdout",
     "output_type": "stream",
     "text": [
      "finished preprocessing\n",
      "predicted and saved results\n",
      "imported:21974.0\n"
     ]
    },
    {
     "name": "stderr",
     "output_type": "stream",
     "text": [
      "C:\\Users\\Vincent\\anaconda3\\lib\\site-packages\\sklearn\\preprocessing\\_data.py:2670: FutureWarning: The default value of `copy` will change from False to True in 0.23 in order to make it more consistent with the default `copy` values of other functions in :mod:`sklearn.preprocessing` and prevent unexpected side effects by modifying the value of `X` inplace. To avoid inplace modifications of `X`, it is recommended to explicitly set `copy=True`\n",
      "  FutureWarning)\n"
     ]
    },
    {
     "name": "stdout",
     "output_type": "stream",
     "text": [
      "finished preprocessing\n",
      "predicted and saved results\n",
      "imported:22005.0\n"
     ]
    },
    {
     "name": "stderr",
     "output_type": "stream",
     "text": [
      "C:\\Users\\Vincent\\anaconda3\\lib\\site-packages\\sklearn\\preprocessing\\_data.py:2670: FutureWarning: The default value of `copy` will change from False to True in 0.23 in order to make it more consistent with the default `copy` values of other functions in :mod:`sklearn.preprocessing` and prevent unexpected side effects by modifying the value of `X` inplace. To avoid inplace modifications of `X`, it is recommended to explicitly set `copy=True`\n",
      "  FutureWarning)\n"
     ]
    },
    {
     "name": "stdout",
     "output_type": "stream",
     "text": [
      "finished preprocessing\n",
      "predicted and saved results\n",
      "imported:22035.0\n"
     ]
    },
    {
     "name": "stderr",
     "output_type": "stream",
     "text": [
      "C:\\Users\\Vincent\\anaconda3\\lib\\site-packages\\sklearn\\preprocessing\\_data.py:2670: FutureWarning: The default value of `copy` will change from False to True in 0.23 in order to make it more consistent with the default `copy` values of other functions in :mod:`sklearn.preprocessing` and prevent unexpected side effects by modifying the value of `X` inplace. To avoid inplace modifications of `X`, it is recommended to explicitly set `copy=True`\n",
      "  FutureWarning)\n"
     ]
    },
    {
     "name": "stdout",
     "output_type": "stream",
     "text": [
      "finished preprocessing\n",
      "predicted and saved results\n",
      "imported:22066.0\n"
     ]
    },
    {
     "name": "stderr",
     "output_type": "stream",
     "text": [
      "C:\\Users\\Vincent\\anaconda3\\lib\\site-packages\\sklearn\\preprocessing\\_data.py:2670: FutureWarning: The default value of `copy` will change from False to True in 0.23 in order to make it more consistent with the default `copy` values of other functions in :mod:`sklearn.preprocessing` and prevent unexpected side effects by modifying the value of `X` inplace. To avoid inplace modifications of `X`, it is recommended to explicitly set `copy=True`\n",
      "  FutureWarning)\n"
     ]
    },
    {
     "name": "stdout",
     "output_type": "stream",
     "text": [
      "finished preprocessing\n",
      "predicted and saved results\n",
      "imported:22096.0\n"
     ]
    },
    {
     "name": "stderr",
     "output_type": "stream",
     "text": [
      "C:\\Users\\Vincent\\anaconda3\\lib\\site-packages\\sklearn\\preprocessing\\_data.py:2670: FutureWarning: The default value of `copy` will change from False to True in 0.23 in order to make it more consistent with the default `copy` values of other functions in :mod:`sklearn.preprocessing` and prevent unexpected side effects by modifying the value of `X` inplace. To avoid inplace modifications of `X`, it is recommended to explicitly set `copy=True`\n",
      "  FutureWarning)\n"
     ]
    },
    {
     "name": "stdout",
     "output_type": "stream",
     "text": [
      "finished preprocessing\n",
      "predicted and saved results\n",
      "imported:22127.0\n"
     ]
    },
    {
     "name": "stderr",
     "output_type": "stream",
     "text": [
      "C:\\Users\\Vincent\\anaconda3\\lib\\site-packages\\sklearn\\preprocessing\\_data.py:2670: FutureWarning: The default value of `copy` will change from False to True in 0.23 in order to make it more consistent with the default `copy` values of other functions in :mod:`sklearn.preprocessing` and prevent unexpected side effects by modifying the value of `X` inplace. To avoid inplace modifications of `X`, it is recommended to explicitly set `copy=True`\n",
      "  FutureWarning)\n"
     ]
    },
    {
     "name": "stdout",
     "output_type": "stream",
     "text": [
      "finished preprocessing\n",
      "predicted and saved results\n",
      "imported:22158.0\n"
     ]
    },
    {
     "name": "stderr",
     "output_type": "stream",
     "text": [
      "C:\\Users\\Vincent\\anaconda3\\lib\\site-packages\\sklearn\\preprocessing\\_data.py:2670: FutureWarning: The default value of `copy` will change from False to True in 0.23 in order to make it more consistent with the default `copy` values of other functions in :mod:`sklearn.preprocessing` and prevent unexpected side effects by modifying the value of `X` inplace. To avoid inplace modifications of `X`, it is recommended to explicitly set `copy=True`\n",
      "  FutureWarning)\n"
     ]
    },
    {
     "name": "stdout",
     "output_type": "stream",
     "text": [
      "finished preprocessing\n",
      "predicted and saved results\n",
      "imported:22188.0\n"
     ]
    },
    {
     "name": "stderr",
     "output_type": "stream",
     "text": [
      "C:\\Users\\Vincent\\anaconda3\\lib\\site-packages\\sklearn\\preprocessing\\_data.py:2670: FutureWarning: The default value of `copy` will change from False to True in 0.23 in order to make it more consistent with the default `copy` values of other functions in :mod:`sklearn.preprocessing` and prevent unexpected side effects by modifying the value of `X` inplace. To avoid inplace modifications of `X`, it is recommended to explicitly set `copy=True`\n",
      "  FutureWarning)\n"
     ]
    },
    {
     "name": "stdout",
     "output_type": "stream",
     "text": [
      "finished preprocessing\n",
      "predicted and saved results\n",
      "imported:22219.0\n"
     ]
    },
    {
     "name": "stderr",
     "output_type": "stream",
     "text": [
      "C:\\Users\\Vincent\\anaconda3\\lib\\site-packages\\sklearn\\preprocessing\\_data.py:2670: FutureWarning: The default value of `copy` will change from False to True in 0.23 in order to make it more consistent with the default `copy` values of other functions in :mod:`sklearn.preprocessing` and prevent unexpected side effects by modifying the value of `X` inplace. To avoid inplace modifications of `X`, it is recommended to explicitly set `copy=True`\n",
      "  FutureWarning)\n"
     ]
    },
    {
     "name": "stdout",
     "output_type": "stream",
     "text": [
      "finished preprocessing\n",
      "predicted and saved results\n",
      "imported:22249.0\n"
     ]
    },
    {
     "name": "stderr",
     "output_type": "stream",
     "text": [
      "C:\\Users\\Vincent\\anaconda3\\lib\\site-packages\\sklearn\\preprocessing\\_data.py:2670: FutureWarning: The default value of `copy` will change from False to True in 0.23 in order to make it more consistent with the default `copy` values of other functions in :mod:`sklearn.preprocessing` and prevent unexpected side effects by modifying the value of `X` inplace. To avoid inplace modifications of `X`, it is recommended to explicitly set `copy=True`\n",
      "  FutureWarning)\n"
     ]
    },
    {
     "name": "stdout",
     "output_type": "stream",
     "text": [
      "finished preprocessing\n",
      "predicted and saved results\n",
      "imported:22280.0\n"
     ]
    },
    {
     "name": "stderr",
     "output_type": "stream",
     "text": [
      "C:\\Users\\Vincent\\anaconda3\\lib\\site-packages\\sklearn\\preprocessing\\_data.py:2670: FutureWarning: The default value of `copy` will change from False to True in 0.23 in order to make it more consistent with the default `copy` values of other functions in :mod:`sklearn.preprocessing` and prevent unexpected side effects by modifying the value of `X` inplace. To avoid inplace modifications of `X`, it is recommended to explicitly set `copy=True`\n",
      "  FutureWarning)\n",
      "C:\\Users\\Vincent\\anaconda3\\lib\\site-packages\\sklearn\\preprocessing\\_data.py:2357: UserWarning: n_quantiles (1000) is greater than the total number of samples (295). n_quantiles is set to n_samples.\n",
      "  % (self.n_quantiles, n_samples))\n"
     ]
    },
    {
     "name": "stdout",
     "output_type": "stream",
     "text": [
      "finished preprocessing\n",
      "predicted and saved results\n",
      "imported:20909.0\n"
     ]
    },
    {
     "name": "stderr",
     "output_type": "stream",
     "text": [
      "C:\\Users\\Vincent\\anaconda3\\lib\\site-packages\\sklearn\\preprocessing\\_data.py:2670: FutureWarning: The default value of `copy` will change from False to True in 0.23 in order to make it more consistent with the default `copy` values of other functions in :mod:`sklearn.preprocessing` and prevent unexpected side effects by modifying the value of `X` inplace. To avoid inplace modifications of `X`, it is recommended to explicitly set `copy=True`\n",
      "  FutureWarning)\n"
     ]
    },
    {
     "name": "stdout",
     "output_type": "stream",
     "text": [
      "finished preprocessing\n",
      "predicted and saved results\n",
      "imported:20939.0\n"
     ]
    },
    {
     "name": "stderr",
     "output_type": "stream",
     "text": [
      "C:\\Users\\Vincent\\anaconda3\\lib\\site-packages\\sklearn\\preprocessing\\_data.py:2670: FutureWarning: The default value of `copy` will change from False to True in 0.23 in order to make it more consistent with the default `copy` values of other functions in :mod:`sklearn.preprocessing` and prevent unexpected side effects by modifying the value of `X` inplace. To avoid inplace modifications of `X`, it is recommended to explicitly set `copy=True`\n",
      "  FutureWarning)\n"
     ]
    },
    {
     "name": "stdout",
     "output_type": "stream",
     "text": [
      "finished preprocessing\n",
      "predicted and saved results\n"
     ]
    }
   ],
   "source": [
    "for date in date_list:\n",
    "\n",
    "    # import Dataset\n",
    "    # pull based on date\n",
    "    conn = psycopg2.connect(\"dbname=Kelly_2017_2020 user=postgres password=password\")\n",
    "    cur = conn.cursor()\n",
    "    cur.execute(\"SELECT * FROM data WHERE eom like '\"+str(date)+\"';\")\n",
    "    eval_batch = cur.fetchall()\n",
    "    conn.commit()\n",
    "    cur.close()\n",
    "    conn.close()\n",
    "    print(\"imported:\"+ str(date))\n",
    "\n",
    "    eval_batch = pd.DataFrame(eval_batch, columns = pd.DataFrame(column_names)[0])\n",
    "    eval_batch.replace(\"EMPTY\", np.nan, inplace = True)\n",
    "    eval_batch.drop(columns=identifiers, inplace = True)\n",
    "    eval_batch = eval_batch[False == eval_batch[\"ret_exc_lead1m\"].isnull()]\n",
    "    \n",
    "    eval_batch = pd.merge(eval_batch,macro_data, on =\"eom\" )\n",
    "    eval_batch.drop(columns=[\"eom\"], inplace = True)\n",
    "    eval_batch.drop(columns=delete_cols[\"0\"], inplace = True)\n",
    "    eval_batch=eval_batch.loc[False==eval_batch.isna().any(axis=1),:]\n",
    "    #eval_batch.fillna(eval_batch.median(), inplace=True)\n",
    "    \n",
    "    X_eval_batch=quantile_transform(np.array(eval_batch.drop(columns=['ret_exc_lead1m'])), n_quantiles=1000)\n",
    "    X_eval_batch=pd.DataFrame(X_eval_batch)\n",
    "    Y_eval_batch = eval_batch[\"ret_exc_lead1m\"].astype(float)\n",
    "    print(\"finished preprocessing\")\n",
    "    \n",
    "    w=reload.predict(X_eval_batch)\n",
    "    Loss.append(np.mean((1-sum(w[:,0]*Y_eval_batch))*Y_eval_batch))\n",
    "    Return_List.append(sum(w[:,0]*Y_eval_batch))\n",
    "    Return_List_weight_adjusted.append(sum((w[:,0]/np.sum(w[:,0]))*Y_eval_batch))\n",
    "    Return_List_BH.append(Y_eval_batch.mean())\n",
    "    print(\"predicted and saved results\")"
   ]
  },
  {
   "cell_type": "code",
   "execution_count": 133,
   "metadata": {},
   "outputs": [
    {
     "data": {
      "text/plain": [
       "(array([ 878., 1322.,  456.,  243.,  147.,   77.,   49.,   24.,   11.,\n",
       "           5.]),\n",
       " array([0.00080768, 0.00082106, 0.00083444, 0.00084781, 0.00086119,\n",
       "        0.00087457, 0.00088794, 0.00090132, 0.0009147 , 0.00092807,\n",
       "        0.00094145], dtype=float32),\n",
       " <a list of 10 Patch objects>)"
      ]
     },
     "execution_count": 133,
     "metadata": {},
     "output_type": "execute_result"
    },
    {
     "data": {
      "image/png": "[encoded data removed]",
      "text/plain": [
       "<Figure size 432x288 with 1 Axes>"
      ]
     },
     "metadata": {
      "needs_background": "light"
     },
     "output_type": "display_data"
    }
   ],
   "source": [
    "plt.hist(w[:,0])"
   ]
  },
  {
   "cell_type": "code",
   "execution_count": null,
   "metadata": {},
   "outputs": [],
   "source": [
    "Loss\n",
    "Return_List\n",
    "Return_List_weight_adjusted\n",
    "Return_List_BH"
   ]
  },
  {
   "cell_type": "code",
   "execution_count": 134,
   "metadata": {},
   "outputs": [
    {
     "data": {
      "text/plain": [
       "[1, 2, 3, 4, 5, 6, 7, 8, 9, 10, 11, 12, 13, 14, 15]"
      ]
     },
     "execution_count": 134,
     "metadata": {},
     "output_type": "execute_result"
    }
   ],
   "source": [
    "plotlist=[]\n",
    "for i in range(1,16):\n",
    "    plotlist.append(i)\n",
    "plotlist"
   ]
  },
  {
   "cell_type": "code",
   "execution_count": 135,
   "metadata": {},
   "outputs": [
    {
     "data": {
      "text/plain": [
       "15"
      ]
     },
     "execution_count": 135,
     "metadata": {},
     "output_type": "execute_result"
    }
   ],
   "source": [
    "len(Return_List_weight_adjusted)"
   ]
  },
  {
   "cell_type": "code",
   "execution_count": 136,
   "metadata": {
    "scrolled": true
   },
   "outputs": [
    {
     "data": {
      "text/plain": [
       "<matplotlib.collections.PathCollection at 0x1f3978a8d48>"
      ]
     },
     "execution_count": 136,
     "metadata": {},
     "output_type": "execute_result"
    },
    {
     "data": {
      "image/png": "[encoded data removed]",
      "text/plain": [
       "<Figure size 432x288 with 1 Axes>"
      ]
     },
     "metadata": {
      "needs_background": "light"
     },
     "output_type": "display_data"
    }
   ],
   "source": [
    "# Return of Model vs buy and hold strategy\n",
    "plt.scatter(plotlist,Return_List_weight_adjusted, marker = \"o\") \n",
    "plt.scatter(plotlist,Return_List_BH, marker = \"x\")\n",
    "plt.scatter(plotlist,Return_List, marker = \"x\")"
   ]
  },
  {
   "cell_type": "code",
   "execution_count": 150,
   "metadata": {},
   "outputs": [],
   "source": [
    "SR_NN = np.array(Return_List).mean()/np.array(Return_List).std()\n",
    "SR_BH = np.array(Return_List_BH).mean()/np.array(Return_List_BH).std()"
   ]
  },
  {
   "cell_type": "code",
   "execution_count": 151,
   "metadata": {},
   "outputs": [
    {
     "data": {
      "text/plain": [
       "0.46005321803587007"
      ]
     },
     "execution_count": 151,
     "metadata": {},
     "output_type": "execute_result"
    }
   ],
   "source": [
    "SR_BH"
   ]
  },
  {
   "cell_type": "code",
   "execution_count": 152,
   "metadata": {},
   "outputs": [
    {
     "data": {
      "text/plain": [
       "0.46278696290503774"
      ]
     },
     "execution_count": 152,
     "metadata": {},
     "output_type": "execute_result"
    }
   ],
   "source": [
    "# unfortunately sharpe ratio of NN is not improved against the Buy and Hold strategy\n",
    "SR_NN"
   ]
  }
 ],
 "metadata": {
  "kernelspec": {
   "display_name": "Python 3",
   "language": "python",
   "name": "python3"
  },
  "language_info": {
   "codemirror_mode": {
    "name": "ipython",
    "version": 3
   },
   "file_extension": ".py",
   "mimetype": "text/x-python",
   "name": "python",
   "nbconvert_exporter": "python",
   "pygments_lexer": "ipython3",
   "version": "3.7.6"
  }
 },
 "nbformat": 4,
 "nbformat_minor": 4
}
